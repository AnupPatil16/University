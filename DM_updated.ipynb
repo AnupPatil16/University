{
 "cells": [
  {
   "cell_type": "markdown",
   "metadata": {},
   "source": [
    "# School of Computer Science and Engineering.\n",
    "## Data Mining and Analysis Course Project.\n",
    "### Team : 1A1"
   ]
  },
  {
   "cell_type": "code",
   "execution_count": 254,
   "metadata": {},
   "outputs": [
    {
     "name": "stdout",
     "output_type": "stream",
     "text": [
      "Populating the interactive namespace from numpy and matplotlib\n"
     ]
    }
   ],
   "source": [
    "import pandas as pd\n",
    "import matplotlib.pyplot as plt\n",
    "%pylab inline \n",
    "import seaborn as sns"
   ]
  },
  {
   "cell_type": "code",
   "execution_count": 255,
   "metadata": {
    "collapsed": true
   },
   "outputs": [],
   "source": [
    "train_data= pd.read_csv(\"sample_data.csv\")\n",
    "test_data= pd.read_csv(\"test_data.csv\")"
   ]
  },
  {
   "cell_type": "code",
   "execution_count": 256,
   "metadata": {},
   "outputs": [
    {
     "name": "stdout",
     "output_type": "stream",
     "text": [
      "10000\n",
      "48425\n"
     ]
    }
   ],
   "source": [
    "print (len(train_data))\n",
    "print (len(test_data))"
   ]
  },
  {
   "cell_type": "code",
   "execution_count": 257,
   "metadata": {},
   "outputs": [
    {
     "data": {
      "text/html": [
       "<div>\n",
       "<style>\n",
       "    .dataframe thead tr:only-child th {\n",
       "        text-align: right;\n",
       "    }\n",
       "\n",
       "    .dataframe thead th {\n",
       "        text-align: left;\n",
       "    }\n",
       "\n",
       "    .dataframe tbody tr th {\n",
       "        vertical-align: top;\n",
       "    }\n",
       "</style>\n",
       "<table border=\"1\" class=\"dataframe\">\n",
       "  <thead>\n",
       "    <tr style=\"text-align: right;\">\n",
       "      <th></th>\n",
       "      <th>ABL50</th>\n",
       "      <th>ABL80</th>\n",
       "      <th>ABLMED</th>\n",
       "      <th>AGE</th>\n",
       "      <th>APLMED</th>\n",
       "      <th>ASSISTED</th>\n",
       "      <th>BEDRMS</th>\n",
       "      <th>BUILT</th>\n",
       "      <th>BURDEN</th>\n",
       "      <th>CONTROL</th>\n",
       "      <th>...</th>\n",
       "      <th>TYPE</th>\n",
       "      <th>UTILITY</th>\n",
       "      <th>VACANCY</th>\n",
       "      <th>VALUE</th>\n",
       "      <th>WEIGHT</th>\n",
       "      <th>ZADEQ</th>\n",
       "      <th>ZINC2</th>\n",
       "      <th>ZSMHC</th>\n",
       "      <th>DSYEAR</th>\n",
       "      <th>ID</th>\n",
       "    </tr>\n",
       "  </thead>\n",
       "  <tbody>\n",
       "    <tr>\n",
       "      <th>count</th>\n",
       "      <td>10000.000000</td>\n",
       "      <td>10000.000000</td>\n",
       "      <td>10000.000000</td>\n",
       "      <td>10000.00000</td>\n",
       "      <td>10000.000000</td>\n",
       "      <td>10000.00000</td>\n",
       "      <td>10000.000000</td>\n",
       "      <td>10000.000000</td>\n",
       "      <td>10000.000000</td>\n",
       "      <td>1.000000e+04</td>\n",
       "      <td>...</td>\n",
       "      <td>10000.000000</td>\n",
       "      <td>10000.000000</td>\n",
       "      <td>10000.000000</td>\n",
       "      <td>10000.000000</td>\n",
       "      <td>10000.000000</td>\n",
       "      <td>10000.000000</td>\n",
       "      <td>10000.000000</td>\n",
       "      <td>10000.000000</td>\n",
       "      <td>10000.0</td>\n",
       "      <td>10000.00000</td>\n",
       "    </tr>\n",
       "    <tr>\n",
       "      <th>mean</th>\n",
       "      <td>14780.500165</td>\n",
       "      <td>22833.217599</td>\n",
       "      <td>28960.758403</td>\n",
       "      <td>43.80170</td>\n",
       "      <td>24212.650451</td>\n",
       "      <td>0.05430</td>\n",
       "      <td>2.470400</td>\n",
       "      <td>13.280500</td>\n",
       "      <td>-0.694307</td>\n",
       "      <td>1.999318e+11</td>\n",
       "      <td>...</td>\n",
       "      <td>1.056300</td>\n",
       "      <td>47.521367</td>\n",
       "      <td>-8.254800</td>\n",
       "      <td>44296.673600</td>\n",
       "      <td>1995.553954</td>\n",
       "      <td>1.117900</td>\n",
       "      <td>26557.533600</td>\n",
       "      <td>394.105100</td>\n",
       "      <td>1985.0</td>\n",
       "      <td>5000.50000</td>\n",
       "    </tr>\n",
       "    <tr>\n",
       "      <th>std</th>\n",
       "      <td>3231.738014</td>\n",
       "      <td>4339.344356</td>\n",
       "      <td>6464.395512</td>\n",
       "      <td>22.11984</td>\n",
       "      <td>8832.957324</td>\n",
       "      <td>0.22662</td>\n",
       "      <td>1.058601</td>\n",
       "      <td>24.043274</td>\n",
       "      <td>5.025436</td>\n",
       "      <td>4.111055e+10</td>\n",
       "      <td>...</td>\n",
       "      <td>0.355166</td>\n",
       "      <td>49.063665</td>\n",
       "      <td>2.795292</td>\n",
       "      <td>55513.524629</td>\n",
       "      <td>952.210101</td>\n",
       "      <td>0.377642</td>\n",
       "      <td>24406.363331</td>\n",
       "      <td>321.509968</td>\n",
       "      <td>0.0</td>\n",
       "      <td>2886.89568</td>\n",
       "    </tr>\n",
       "    <tr>\n",
       "      <th>min</th>\n",
       "      <td>6949.001277</td>\n",
       "      <td>11124.026170</td>\n",
       "      <td>13660.379600</td>\n",
       "      <td>-9.00000</td>\n",
       "      <td>-9.000000</td>\n",
       "      <td>0.00000</td>\n",
       "      <td>0.000000</td>\n",
       "      <td>1.000000</td>\n",
       "      <td>-9.000000</td>\n",
       "      <td>1.000000e+11</td>\n",
       "      <td>...</td>\n",
       "      <td>1.000000</td>\n",
       "      <td>0.000000</td>\n",
       "      <td>-9.000000</td>\n",
       "      <td>-9.000000</td>\n",
       "      <td>0.000000</td>\n",
       "      <td>1.000000</td>\n",
       "      <td>-10001.000000</td>\n",
       "      <td>-9.000000</td>\n",
       "      <td>1985.0</td>\n",
       "      <td>1.00000</td>\n",
       "    </tr>\n",
       "    <tr>\n",
       "      <th>25%</th>\n",
       "      <td>12484.571810</td>\n",
       "      <td>19712.839500</td>\n",
       "      <td>23984.510400</td>\n",
       "      <td>30.00000</td>\n",
       "      <td>21094.713600</td>\n",
       "      <td>0.00000</td>\n",
       "      <td>2.000000</td>\n",
       "      <td>4.000000</td>\n",
       "      <td>0.091913</td>\n",
       "      <td>1.860000e+11</td>\n",
       "      <td>...</td>\n",
       "      <td>1.000000</td>\n",
       "      <td>6.250000</td>\n",
       "      <td>-9.000000</td>\n",
       "      <td>-9.000000</td>\n",
       "      <td>2029.992500</td>\n",
       "      <td>1.000000</td>\n",
       "      <td>9000.000000</td>\n",
       "      <td>191.000000</td>\n",
       "      <td>1985.0</td>\n",
       "      <td>2500.75000</td>\n",
       "    </tr>\n",
       "    <tr>\n",
       "      <th>50%</th>\n",
       "      <td>14507.066310</td>\n",
       "      <td>22765.610400</td>\n",
       "      <td>28367.388000</td>\n",
       "      <td>42.00000</td>\n",
       "      <td>24833.725200</td>\n",
       "      <td>0.00000</td>\n",
       "      <td>3.000000</td>\n",
       "      <td>5.000000</td>\n",
       "      <td>0.181281</td>\n",
       "      <td>1.890000e+11</td>\n",
       "      <td>...</td>\n",
       "      <td>1.000000</td>\n",
       "      <td>35.000000</td>\n",
       "      <td>-9.000000</td>\n",
       "      <td>28000.000000</td>\n",
       "      <td>2224.650000</td>\n",
       "      <td>1.000000</td>\n",
       "      <td>20999.000000</td>\n",
       "      <td>337.000000</td>\n",
       "      <td>1985.0</td>\n",
       "      <td>5000.50000</td>\n",
       "    </tr>\n",
       "    <tr>\n",
       "      <th>75%</th>\n",
       "      <td>16945.347850</td>\n",
       "      <td>25478.110170</td>\n",
       "      <td>32798.983360</td>\n",
       "      <td>61.00000</td>\n",
       "      <td>29087.542800</td>\n",
       "      <td>0.00000</td>\n",
       "      <td>3.000000</td>\n",
       "      <td>8.000000</td>\n",
       "      <td>0.301200</td>\n",
       "      <td>2.000000e+11</td>\n",
       "      <td>...</td>\n",
       "      <td>1.000000</td>\n",
       "      <td>75.000000</td>\n",
       "      <td>-9.000000</td>\n",
       "      <td>70000.000000</td>\n",
       "      <td>2433.157500</td>\n",
       "      <td>1.000000</td>\n",
       "      <td>36600.000000</td>\n",
       "      <td>520.000000</td>\n",
       "      <td>1985.0</td>\n",
       "      <td>7500.25000</td>\n",
       "    </tr>\n",
       "    <tr>\n",
       "      <th>max</th>\n",
       "      <td>38248.115380</td>\n",
       "      <td>51022.981920</td>\n",
       "      <td>76501.223200</td>\n",
       "      <td>91.00000</td>\n",
       "      <td>82744.973920</td>\n",
       "      <td>1.00000</td>\n",
       "      <td>10.000000</td>\n",
       "      <td>85.000000</td>\n",
       "      <td>390.000000</td>\n",
       "      <td>2.850000e+11</td>\n",
       "      <td>...</td>\n",
       "      <td>14.000000</td>\n",
       "      <td>485.166667</td>\n",
       "      <td>5.000000</td>\n",
       "      <td>250001.000000</td>\n",
       "      <td>10674.220000</td>\n",
       "      <td>3.000000</td>\n",
       "      <td>200002.000000</td>\n",
       "      <td>4195.000000</td>\n",
       "      <td>1985.0</td>\n",
       "      <td>10000.00000</td>\n",
       "    </tr>\n",
       "  </tbody>\n",
       "</table>\n",
       "<p>8 rows × 73 columns</p>\n",
       "</div>"
      ],
      "text/plain": [
       "              ABL50         ABL80        ABLMED          AGE        APLMED  \\\n",
       "count  10000.000000  10000.000000  10000.000000  10000.00000  10000.000000   \n",
       "mean   14780.500165  22833.217599  28960.758403     43.80170  24212.650451   \n",
       "std     3231.738014   4339.344356   6464.395512     22.11984   8832.957324   \n",
       "min     6949.001277  11124.026170  13660.379600     -9.00000     -9.000000   \n",
       "25%    12484.571810  19712.839500  23984.510400     30.00000  21094.713600   \n",
       "50%    14507.066310  22765.610400  28367.388000     42.00000  24833.725200   \n",
       "75%    16945.347850  25478.110170  32798.983360     61.00000  29087.542800   \n",
       "max    38248.115380  51022.981920  76501.223200     91.00000  82744.973920   \n",
       "\n",
       "          ASSISTED        BEDRMS         BUILT        BURDEN       CONTROL  \\\n",
       "count  10000.00000  10000.000000  10000.000000  10000.000000  1.000000e+04   \n",
       "mean       0.05430      2.470400     13.280500     -0.694307  1.999318e+11   \n",
       "std        0.22662      1.058601     24.043274      5.025436  4.111055e+10   \n",
       "min        0.00000      0.000000      1.000000     -9.000000  1.000000e+11   \n",
       "25%        0.00000      2.000000      4.000000      0.091913  1.860000e+11   \n",
       "50%        0.00000      3.000000      5.000000      0.181281  1.890000e+11   \n",
       "75%        0.00000      3.000000      8.000000      0.301200  2.000000e+11   \n",
       "max        1.00000     10.000000     85.000000    390.000000  2.850000e+11   \n",
       "\n",
       "          ...               TYPE       UTILITY       VACANCY          VALUE  \\\n",
       "count     ...       10000.000000  10000.000000  10000.000000   10000.000000   \n",
       "mean      ...           1.056300     47.521367     -8.254800   44296.673600   \n",
       "std       ...           0.355166     49.063665      2.795292   55513.524629   \n",
       "min       ...           1.000000      0.000000     -9.000000      -9.000000   \n",
       "25%       ...           1.000000      6.250000     -9.000000      -9.000000   \n",
       "50%       ...           1.000000     35.000000     -9.000000   28000.000000   \n",
       "75%       ...           1.000000     75.000000     -9.000000   70000.000000   \n",
       "max       ...          14.000000    485.166667      5.000000  250001.000000   \n",
       "\n",
       "             WEIGHT         ZADEQ          ZINC2         ZSMHC   DSYEAR  \\\n",
       "count  10000.000000  10000.000000   10000.000000  10000.000000  10000.0   \n",
       "mean    1995.553954      1.117900   26557.533600    394.105100   1985.0   \n",
       "std      952.210101      0.377642   24406.363331    321.509968      0.0   \n",
       "min        0.000000      1.000000  -10001.000000     -9.000000   1985.0   \n",
       "25%     2029.992500      1.000000    9000.000000    191.000000   1985.0   \n",
       "50%     2224.650000      1.000000   20999.000000    337.000000   1985.0   \n",
       "75%     2433.157500      1.000000   36600.000000    520.000000   1985.0   \n",
       "max    10674.220000      3.000000  200002.000000   4195.000000   1985.0   \n",
       "\n",
       "                ID  \n",
       "count  10000.00000  \n",
       "mean    5000.50000  \n",
       "std     2886.89568  \n",
       "min        1.00000  \n",
       "25%     2500.75000  \n",
       "50%     5000.50000  \n",
       "75%     7500.25000  \n",
       "max    10000.00000  \n",
       "\n",
       "[8 rows x 73 columns]"
      ]
     },
     "execution_count": 257,
     "metadata": {},
     "output_type": "execute_result"
    }
   ],
   "source": [
    "train_data.describe()"
   ]
  },
  {
   "cell_type": "code",
   "execution_count": 258,
   "metadata": {},
   "outputs": [
    {
     "data": {
      "text/html": [
       "<div>\n",
       "<style>\n",
       "    .dataframe thead tr:only-child th {\n",
       "        text-align: right;\n",
       "    }\n",
       "\n",
       "    .dataframe thead th {\n",
       "        text-align: left;\n",
       "    }\n",
       "\n",
       "    .dataframe tbody tr th {\n",
       "        vertical-align: top;\n",
       "    }\n",
       "</style>\n",
       "<table border=\"1\" class=\"dataframe\">\n",
       "  <thead>\n",
       "    <tr style=\"text-align: right;\">\n",
       "      <th></th>\n",
       "      <th>ABL50</th>\n",
       "      <th>ABL80</th>\n",
       "      <th>ABLMED</th>\n",
       "      <th>AGE</th>\n",
       "      <th>APLMED</th>\n",
       "      <th>ASSISTED</th>\n",
       "      <th>BEDRMS</th>\n",
       "      <th>BUILT</th>\n",
       "      <th>BURDEN</th>\n",
       "      <th>CONTROL</th>\n",
       "      <th>...</th>\n",
       "      <th>TYPE</th>\n",
       "      <th>UTILITY</th>\n",
       "      <th>VACANCY</th>\n",
       "      <th>VALUE</th>\n",
       "      <th>WEIGHT</th>\n",
       "      <th>ZADEQ</th>\n",
       "      <th>ZINC2</th>\n",
       "      <th>ZSMHC</th>\n",
       "      <th>DSYEAR</th>\n",
       "      <th>ID</th>\n",
       "    </tr>\n",
       "  </thead>\n",
       "  <tbody>\n",
       "    <tr>\n",
       "      <th>count</th>\n",
       "      <td>48425.000000</td>\n",
       "      <td>48425.000000</td>\n",
       "      <td>48425.000000</td>\n",
       "      <td>48425.000000</td>\n",
       "      <td>48425.000000</td>\n",
       "      <td>48425.000000</td>\n",
       "      <td>48425.000000</td>\n",
       "      <td>48425.000000</td>\n",
       "      <td>48425.000000</td>\n",
       "      <td>4.842500e+04</td>\n",
       "      <td>...</td>\n",
       "      <td>48425.000000</td>\n",
       "      <td>48425.000000</td>\n",
       "      <td>48425.000000</td>\n",
       "      <td>48425.000000</td>\n",
       "      <td>48425.000000</td>\n",
       "      <td>48425.000000</td>\n",
       "      <td>48425.000000</td>\n",
       "      <td>48425.000000</td>\n",
       "      <td>48425.0</td>\n",
       "      <td>48425.00000</td>\n",
       "    </tr>\n",
       "    <tr>\n",
       "      <th>mean</th>\n",
       "      <td>21626.992045</td>\n",
       "      <td>33655.972374</td>\n",
       "      <td>42354.809916</td>\n",
       "      <td>45.608942</td>\n",
       "      <td>35166.300520</td>\n",
       "      <td>0.050057</td>\n",
       "      <td>2.578069</td>\n",
       "      <td>21.356510</td>\n",
       "      <td>2.250122</td>\n",
       "      <td>4.311147e+11</td>\n",
       "      <td>...</td>\n",
       "      <td>1.072566</td>\n",
       "      <td>122.288419</td>\n",
       "      <td>-8.380465</td>\n",
       "      <td>71492.132122</td>\n",
       "      <td>2101.843431</td>\n",
       "      <td>1.106267</td>\n",
       "      <td>38632.812039</td>\n",
       "      <td>627.272173</td>\n",
       "      <td>1995.0</td>\n",
       "      <td>24213.00000</td>\n",
       "    </tr>\n",
       "    <tr>\n",
       "      <th>std</th>\n",
       "      <td>4782.960236</td>\n",
       "      <td>6574.798125</td>\n",
       "      <td>9554.212749</td>\n",
       "      <td>21.499159</td>\n",
       "      <td>12376.664433</td>\n",
       "      <td>0.218064</td>\n",
       "      <td>1.042714</td>\n",
       "      <td>32.895426</td>\n",
       "      <td>139.526902</td>\n",
       "      <td>1.778092e+11</td>\n",
       "      <td>...</td>\n",
       "      <td>0.376412</td>\n",
       "      <td>72.279140</td>\n",
       "      <td>2.543981</td>\n",
       "      <td>86785.403804</td>\n",
       "      <td>825.119585</td>\n",
       "      <td>0.377074</td>\n",
       "      <td>35411.467150</td>\n",
       "      <td>493.400240</td>\n",
       "      <td>0.0</td>\n",
       "      <td>13979.23773</td>\n",
       "    </tr>\n",
       "    <tr>\n",
       "      <th>min</th>\n",
       "      <td>9917.000000</td>\n",
       "      <td>15866.000000</td>\n",
       "      <td>16500.000000</td>\n",
       "      <td>-9.000000</td>\n",
       "      <td>-9.000000</td>\n",
       "      <td>0.000000</td>\n",
       "      <td>0.000000</td>\n",
       "      <td>1.000000</td>\n",
       "      <td>-9.000000</td>\n",
       "      <td>1.000000e+11</td>\n",
       "      <td>...</td>\n",
       "      <td>1.000000</td>\n",
       "      <td>0.000000</td>\n",
       "      <td>-9.000000</td>\n",
       "      <td>-9.000000</td>\n",
       "      <td>0.000000</td>\n",
       "      <td>1.000000</td>\n",
       "      <td>-10001.000000</td>\n",
       "      <td>-9.000000</td>\n",
       "      <td>1995.0</td>\n",
       "      <td>1.00000</td>\n",
       "    </tr>\n",
       "    <tr>\n",
       "      <th>25%</th>\n",
       "      <td>18090.000000</td>\n",
       "      <td>28809.000000</td>\n",
       "      <td>35325.000000</td>\n",
       "      <td>33.000000</td>\n",
       "      <td>29680.000000</td>\n",
       "      <td>0.000000</td>\n",
       "      <td>2.000000</td>\n",
       "      <td>4.000000</td>\n",
       "      <td>0.106385</td>\n",
       "      <td>2.880000e+11</td>\n",
       "      <td>...</td>\n",
       "      <td>1.000000</td>\n",
       "      <td>69.500000</td>\n",
       "      <td>-9.000000</td>\n",
       "      <td>-9.000000</td>\n",
       "      <td>1726.330000</td>\n",
       "      <td>1.000000</td>\n",
       "      <td>13200.000000</td>\n",
       "      <td>295.000000</td>\n",
       "      <td>1995.0</td>\n",
       "      <td>12107.00000</td>\n",
       "    </tr>\n",
       "    <tr>\n",
       "      <th>50%</th>\n",
       "      <td>21150.000000</td>\n",
       "      <td>33390.000000</td>\n",
       "      <td>41171.520000</td>\n",
       "      <td>45.000000</td>\n",
       "      <td>35811.900000</td>\n",
       "      <td>0.000000</td>\n",
       "      <td>3.000000</td>\n",
       "      <td>5.000000</td>\n",
       "      <td>0.191321</td>\n",
       "      <td>4.010000e+11</td>\n",
       "      <td>...</td>\n",
       "      <td>1.000000</td>\n",
       "      <td>116.666667</td>\n",
       "      <td>-9.000000</td>\n",
       "      <td>50000.000000</td>\n",
       "      <td>2233.840000</td>\n",
       "      <td>1.000000</td>\n",
       "      <td>29000.000000</td>\n",
       "      <td>519.000000</td>\n",
       "      <td>1995.0</td>\n",
       "      <td>24213.00000</td>\n",
       "    </tr>\n",
       "    <tr>\n",
       "      <th>75%</th>\n",
       "      <td>24536.200000</td>\n",
       "      <td>37672.160000</td>\n",
       "      <td>48488.000000</td>\n",
       "      <td>61.000000</td>\n",
       "      <td>42280.000000</td>\n",
       "      <td>0.000000</td>\n",
       "      <td>3.000000</td>\n",
       "      <td>9.000000</td>\n",
       "      <td>0.310791</td>\n",
       "      <td>5.890000e+11</td>\n",
       "      <td>...</td>\n",
       "      <td>1.000000</td>\n",
       "      <td>166.000000</td>\n",
       "      <td>-9.000000</td>\n",
       "      <td>110000.000000</td>\n",
       "      <td>2445.690000</td>\n",
       "      <td>1.000000</td>\n",
       "      <td>54000.000000</td>\n",
       "      <td>812.000000</td>\n",
       "      <td>1995.0</td>\n",
       "      <td>36319.00000</td>\n",
       "    </tr>\n",
       "    <tr>\n",
       "      <th>max</th>\n",
       "      <td>60721.650000</td>\n",
       "      <td>75574.575760</td>\n",
       "      <td>103976.000000</td>\n",
       "      <td>91.000000</td>\n",
       "      <td>100152.000000</td>\n",
       "      <td>1.000000</td>\n",
       "      <td>10.000000</td>\n",
       "      <td>96.000000</td>\n",
       "      <td>17706.000000</td>\n",
       "      <td>7.330000e+11</td>\n",
       "      <td>...</td>\n",
       "      <td>9.000000</td>\n",
       "      <td>506.333333</td>\n",
       "      <td>5.000000</td>\n",
       "      <td>375000.000000</td>\n",
       "      <td>32413.680000</td>\n",
       "      <td>3.000000</td>\n",
       "      <td>400000.000000</td>\n",
       "      <td>3598.000000</td>\n",
       "      <td>1995.0</td>\n",
       "      <td>48425.00000</td>\n",
       "    </tr>\n",
       "  </tbody>\n",
       "</table>\n",
       "<p>8 rows × 73 columns</p>\n",
       "</div>"
      ],
      "text/plain": [
       "              ABL50         ABL80         ABLMED           AGE         APLMED  \\\n",
       "count  48425.000000  48425.000000   48425.000000  48425.000000   48425.000000   \n",
       "mean   21626.992045  33655.972374   42354.809916     45.608942   35166.300520   \n",
       "std     4782.960236   6574.798125    9554.212749     21.499159   12376.664433   \n",
       "min     9917.000000  15866.000000   16500.000000     -9.000000      -9.000000   \n",
       "25%    18090.000000  28809.000000   35325.000000     33.000000   29680.000000   \n",
       "50%    21150.000000  33390.000000   41171.520000     45.000000   35811.900000   \n",
       "75%    24536.200000  37672.160000   48488.000000     61.000000   42280.000000   \n",
       "max    60721.650000  75574.575760  103976.000000     91.000000  100152.000000   \n",
       "\n",
       "           ASSISTED        BEDRMS         BUILT        BURDEN       CONTROL  \\\n",
       "count  48425.000000  48425.000000  48425.000000  48425.000000  4.842500e+04   \n",
       "mean       0.050057      2.578069     21.356510      2.250122  4.311147e+11   \n",
       "std        0.218064      1.042714     32.895426    139.526902  1.778092e+11   \n",
       "min        0.000000      0.000000      1.000000     -9.000000  1.000000e+11   \n",
       "25%        0.000000      2.000000      4.000000      0.106385  2.880000e+11   \n",
       "50%        0.000000      3.000000      5.000000      0.191321  4.010000e+11   \n",
       "75%        0.000000      3.000000      9.000000      0.310791  5.890000e+11   \n",
       "max        1.000000     10.000000     96.000000  17706.000000  7.330000e+11   \n",
       "\n",
       "          ...               TYPE       UTILITY       VACANCY          VALUE  \\\n",
       "count     ...       48425.000000  48425.000000  48425.000000   48425.000000   \n",
       "mean      ...           1.072566    122.288419     -8.380465   71492.132122   \n",
       "std       ...           0.376412     72.279140      2.543981   86785.403804   \n",
       "min       ...           1.000000      0.000000     -9.000000      -9.000000   \n",
       "25%       ...           1.000000     69.500000     -9.000000      -9.000000   \n",
       "50%       ...           1.000000    116.666667     -9.000000   50000.000000   \n",
       "75%       ...           1.000000    166.000000     -9.000000  110000.000000   \n",
       "max       ...           9.000000    506.333333      5.000000  375000.000000   \n",
       "\n",
       "             WEIGHT         ZADEQ          ZINC2         ZSMHC   DSYEAR  \\\n",
       "count  48425.000000  48425.000000   48425.000000  48425.000000  48425.0   \n",
       "mean    2101.843431      1.106267   38632.812039    627.272173   1995.0   \n",
       "std      825.119585      0.377074   35411.467150    493.400240      0.0   \n",
       "min        0.000000      1.000000  -10001.000000     -9.000000   1995.0   \n",
       "25%     1726.330000      1.000000   13200.000000    295.000000   1995.0   \n",
       "50%     2233.840000      1.000000   29000.000000    519.000000   1995.0   \n",
       "75%     2445.690000      1.000000   54000.000000    812.000000   1995.0   \n",
       "max    32413.680000      3.000000  400000.000000   3598.000000   1995.0   \n",
       "\n",
       "                ID  \n",
       "count  48425.00000  \n",
       "mean   24213.00000  \n",
       "std    13979.23773  \n",
       "min        1.00000  \n",
       "25%    12107.00000  \n",
       "50%    24213.00000  \n",
       "75%    36319.00000  \n",
       "max    48425.00000  \n",
       "\n",
       "[8 rows x 73 columns]"
      ]
     },
     "execution_count": 258,
     "metadata": {},
     "output_type": "execute_result"
    }
   ],
   "source": [
    "test_data.describe()"
   ]
  },
  {
   "cell_type": "code",
   "execution_count": 346,
   "metadata": {
    "collapsed": true
   },
   "outputs": [],
   "source": [
    "data= pd.concat((train_data, test_data), axis=0, ignore_index=True)"
   ]
  },
  {
   "cell_type": "markdown",
   "metadata": {},
   "source": [
    "#### Plotting fair market rent and Cost burden"
   ]
  },
  {
   "cell_type": "code",
   "execution_count": 348,
   "metadata": {},
   "outputs": [
    {
     "data": {
      "text/plain": [
       "(58425, 190)"
      ]
     },
     "execution_count": 348,
     "metadata": {},
     "output_type": "execute_result"
    },
    {
     "data": {
      "image/png": "[encoded data removed]",
      "text/plain": [
       "<matplotlib.figure.Figure at 0x1280b19358>"
      ]
     },
     "metadata": {},
     "output_type": "display_data"
    }
   ],
   "source": [
    "#Graph of Address accuracy\n",
    "data.FMR.value_counts(dropna=False).plot(kind='bar', color='blue', rot=0)\n",
    "plt.xlabel('FMR')\n",
    "sns.despine()\n",
    "\n",
    "data.shape"
   ]
  },
  {
   "cell_type": "code",
   "execution_count": 349,
   "metadata": {},
   "outputs": [
    {
     "data": {
      "text/plain": [
       "(58425, 190)"
      ]
     },
     "execution_count": 349,
     "metadata": {},
     "output_type": "execute_result"
    },
    {
     "data": {
      "image/png": "[encoded data removed]",
      "text/plain": [
       "<matplotlib.figure.Figure at 0x1280f0b208>"
      ]
     },
     "metadata": {},
     "output_type": "display_data"
    }
   ],
   "source": [
    "#Graph of Address accuracy\n",
    "data.BURDEN.value_counts(dropna=False).plot(kind='bar', color='blue', rot=0)\n",
    "plt.xlabel('BURDEN')\n",
    "sns.despine()\n",
    "\n",
    "data.shape"
   ]
  },
  {
   "cell_type": "markdown",
   "metadata": {},
   "source": [
    "#### Boxplot for Fair market rent"
   ]
  },
  {
   "cell_type": "code",
   "execution_count": 350,
   "metadata": {},
   "outputs": [
    {
     "data": {
      "text/plain": [
       "<matplotlib.axes._subplots.AxesSubplot at 0x1289d51fd0>"
      ]
     },
     "execution_count": 350,
     "metadata": {},
     "output_type": "execute_result"
    },
    {
     "data": {
      "image/png": "[encoded data removed]",
      "text/plain": [
       "<matplotlib.figure.Figure at 0x12f111fa58>"
      ]
     },
     "metadata": {},
     "output_type": "display_data"
    }
   ],
   "source": [
    "sns.boxplot(data.FMR)"
   ]
  },
  {
   "cell_type": "code",
   "execution_count": 351,
   "metadata": {},
   "outputs": [
    {
     "data": {
      "text/plain": [
       "count    48425.000000\n",
       "mean       691.786515\n",
       "std        223.180694\n",
       "min        240.000000\n",
       "25%        526.000000\n",
       "50%        669.000000\n",
       "75%        825.000000\n",
       "max       1843.000000\n",
       "Name: FMR, dtype: float64"
      ]
     },
     "execution_count": 351,
     "metadata": {},
     "output_type": "execute_result"
    }
   ],
   "source": [
    "data[\"FMR\"].describe()"
   ]
  },
  {
   "cell_type": "code",
   "execution_count": 352,
   "metadata": {
    "collapsed": true
   },
   "outputs": [],
   "source": [
    "fmr=data[\"FMR\"]"
   ]
  },
  {
   "cell_type": "code",
   "execution_count": 353,
   "metadata": {},
   "outputs": [
    {
     "data": {
      "text/plain": [
       "0   NaN\n",
       "1   NaN\n",
       "2   NaN\n",
       "3   NaN\n",
       "4   NaN\n",
       "Name: FMR, dtype: float64"
      ]
     },
     "execution_count": 353,
     "metadata": {},
     "output_type": "execute_result"
    }
   ],
   "source": [
    "fmr.head()"
   ]
  },
  {
   "cell_type": "code",
   "execution_count": 354,
   "metadata": {
    "collapsed": true
   },
   "outputs": [],
   "source": [
    "data1=data[(data>fmr.quantile(0.5))& (data<fmr.quantile(.95))]"
   ]
  },
  {
   "cell_type": "markdown",
   "metadata": {},
   "source": [
    "#### Boxplot after removing outliers"
   ]
  },
  {
   "cell_type": "code",
   "execution_count": 356,
   "metadata": {},
   "outputs": [
    {
     "data": {
      "text/plain": [
       "<matplotlib.axes._subplots.AxesSubplot at 0x12d1883908>"
      ]
     },
     "execution_count": 356,
     "metadata": {},
     "output_type": "execute_result"
    },
    {
     "data": {
      "image/png": "[encoded data removed]",
      "text/plain": [
       "<matplotlib.figure.Figure at 0x12b5afbba8>"
      ]
     },
     "metadata": {},
     "output_type": "display_data"
    }
   ],
   "source": [
    "sns.boxplot(data1.FMR)"
   ]
  },
  {
   "cell_type": "markdown",
   "metadata": {},
   "source": [
    "#### Boxplot for burden"
   ]
  },
  {
   "cell_type": "code",
   "execution_count": 357,
   "metadata": {},
   "outputs": [
    {
     "data": {
      "text/plain": [
       "<matplotlib.axes._subplots.AxesSubplot at 0x1286c61208>"
      ]
     },
     "execution_count": 357,
     "metadata": {},
     "output_type": "execute_result"
    },
    {
     "data": {
      "image/png": "[encoded data removed]",
      "text/plain": [
       "<matplotlib.figure.Figure at 0x1280eff7f0>"
      ]
     },
     "metadata": {},
     "output_type": "display_data"
    }
   ],
   "source": [
    "sns.boxplot(data.BURDEN)"
   ]
  },
  {
   "cell_type": "code",
   "execution_count": 358,
   "metadata": {
    "collapsed": true
   },
   "outputs": [],
   "source": [
    "burden=data[\"BURDEN\"]"
   ]
  },
  {
   "cell_type": "code",
   "execution_count": 359,
   "metadata": {},
   "outputs": [
    {
     "data": {
      "text/plain": [
       "0   NaN\n",
       "1   NaN\n",
       "2   NaN\n",
       "3   NaN\n",
       "4   NaN\n",
       "Name: BURDEN, dtype: float64"
      ]
     },
     "execution_count": 359,
     "metadata": {},
     "output_type": "execute_result"
    }
   ],
   "source": [
    "burden.head()"
   ]
  },
  {
   "cell_type": "code",
   "execution_count": 360,
   "metadata": {
    "collapsed": true
   },
   "outputs": [],
   "source": [
    "data1=data[(data>burden.quantile(0.5))& (data<burden.quantile(.95))]"
   ]
  },
  {
   "cell_type": "markdown",
   "metadata": {},
   "source": [
    "#### Boxplot after removing outliers in burden"
   ]
  },
  {
   "cell_type": "code",
   "execution_count": 361,
   "metadata": {},
   "outputs": [
    {
     "data": {
      "text/plain": [
       "<matplotlib.axes._subplots.AxesSubplot at 0x12e0452a20>"
      ]
     },
     "execution_count": 361,
     "metadata": {},
     "output_type": "execute_result"
    },
    {
     "data": {
      "image/png": "[encoded data removed]",
      "text/plain": [
       "<matplotlib.figure.Figure at 0x12ca4e0dd8>"
      ]
     },
     "metadata": {},
     "output_type": "display_data"
    }
   ],
   "source": [
    "sns.boxplot(data1.BURDEN)"
   ]
  },
  {
   "cell_type": "code",
   "execution_count": null,
   "metadata": {
    "collapsed": true
   },
   "outputs": [],
   "source": []
  },
  {
   "cell_type": "code",
   "execution_count": null,
   "metadata": {
    "collapsed": true
   },
   "outputs": [],
   "source": []
  },
  {
   "cell_type": "markdown",
   "metadata": {},
   "source": [
    "#### Convert categorical variable into dummy/indicator variables"
   ]
  },
  {
   "cell_type": "code",
   "execution_count": 260,
   "metadata": {
    "collapsed": true
   },
   "outputs": [],
   "source": [
    "one_hot= pd.get_dummies(data)"
   ]
  },
  {
   "cell_type": "code",
   "execution_count": 261,
   "metadata": {},
   "outputs": [
    {
     "data": {
      "text/html": [
       "<div>\n",
       "<style>\n",
       "    .dataframe thead tr:only-child th {\n",
       "        text-align: right;\n",
       "    }\n",
       "\n",
       "    .dataframe thead th {\n",
       "        text-align: left;\n",
       "    }\n",
       "\n",
       "    .dataframe tbody tr th {\n",
       "        vertical-align: top;\n",
       "    }\n",
       "</style>\n",
       "<table border=\"1\" class=\"dataframe\">\n",
       "  <thead>\n",
       "    <tr style=\"text-align: right;\">\n",
       "      <th></th>\n",
       "      <th>ABL50</th>\n",
       "      <th>ABL80</th>\n",
       "      <th>ABLMED</th>\n",
       "      <th>AGE</th>\n",
       "      <th>APLMED</th>\n",
       "      <th>ASSISTED</th>\n",
       "      <th>BEDRMS</th>\n",
       "      <th>BUILT</th>\n",
       "      <th>BURDEN</th>\n",
       "      <th>CONTROL</th>\n",
       "      <th>...</th>\n",
       "      <th>FMTSTATUS_3 Vacant</th>\n",
       "      <th>FMTSTRUCTURETYPE_1 Single Family</th>\n",
       "      <th>FMTSTRUCTURETYPE_2 2-4 units</th>\n",
       "      <th>FMTSTRUCTURETYPE_3 5-19 units</th>\n",
       "      <th>FMTSTRUCTURETYPE_4 20-49 units</th>\n",
       "      <th>FMTSTRUCTURETYPE_5 50+ units</th>\n",
       "      <th>FMTSTRUCTURETYPE_6 Mobile Home</th>\n",
       "      <th>FMTZADEQ_1 Adequate</th>\n",
       "      <th>FMTZADEQ_2 Moderately Inadequ</th>\n",
       "      <th>FMTZADEQ_3 Severely Indadequa</th>\n",
       "    </tr>\n",
       "  </thead>\n",
       "  <tbody>\n",
       "    <tr>\n",
       "      <th>count</th>\n",
       "      <td>10000.000000</td>\n",
       "      <td>10000.000000</td>\n",
       "      <td>10000.000000</td>\n",
       "      <td>10000.00000</td>\n",
       "      <td>10000.000000</td>\n",
       "      <td>10000.00000</td>\n",
       "      <td>10000.000000</td>\n",
       "      <td>10000.000000</td>\n",
       "      <td>10000.000000</td>\n",
       "      <td>1.000000e+04</td>\n",
       "      <td>...</td>\n",
       "      <td>10000.000000</td>\n",
       "      <td>10000.000000</td>\n",
       "      <td>10000.00000</td>\n",
       "      <td>10000.000000</td>\n",
       "      <td>10000.000000</td>\n",
       "      <td>10000.000000</td>\n",
       "      <td>10000.000000</td>\n",
       "      <td>10000.000000</td>\n",
       "      <td>10000.00000</td>\n",
       "      <td>10000.000000</td>\n",
       "    </tr>\n",
       "    <tr>\n",
       "      <th>mean</th>\n",
       "      <td>14780.500165</td>\n",
       "      <td>22833.217599</td>\n",
       "      <td>28960.758403</td>\n",
       "      <td>43.80170</td>\n",
       "      <td>24212.650451</td>\n",
       "      <td>0.05430</td>\n",
       "      <td>2.470400</td>\n",
       "      <td>13.280500</td>\n",
       "      <td>-0.694307</td>\n",
       "      <td>1.999318e+11</td>\n",
       "      <td>...</td>\n",
       "      <td>0.067400</td>\n",
       "      <td>0.618800</td>\n",
       "      <td>0.13640</td>\n",
       "      <td>0.121500</td>\n",
       "      <td>0.043600</td>\n",
       "      <td>0.042500</td>\n",
       "      <td>0.037200</td>\n",
       "      <td>0.901400</td>\n",
       "      <td>0.07930</td>\n",
       "      <td>0.019300</td>\n",
       "    </tr>\n",
       "    <tr>\n",
       "      <th>std</th>\n",
       "      <td>3231.738014</td>\n",
       "      <td>4339.344356</td>\n",
       "      <td>6464.395512</td>\n",
       "      <td>22.11984</td>\n",
       "      <td>8832.957324</td>\n",
       "      <td>0.22662</td>\n",
       "      <td>1.058601</td>\n",
       "      <td>24.043274</td>\n",
       "      <td>5.025436</td>\n",
       "      <td>4.111055e+10</td>\n",
       "      <td>...</td>\n",
       "      <td>0.250726</td>\n",
       "      <td>0.485706</td>\n",
       "      <td>0.34323</td>\n",
       "      <td>0.326724</td>\n",
       "      <td>0.204214</td>\n",
       "      <td>0.201737</td>\n",
       "      <td>0.189261</td>\n",
       "      <td>0.298139</td>\n",
       "      <td>0.27022</td>\n",
       "      <td>0.137584</td>\n",
       "    </tr>\n",
       "    <tr>\n",
       "      <th>min</th>\n",
       "      <td>6949.001277</td>\n",
       "      <td>11124.026170</td>\n",
       "      <td>13660.379600</td>\n",
       "      <td>-9.00000</td>\n",
       "      <td>-9.000000</td>\n",
       "      <td>0.00000</td>\n",
       "      <td>0.000000</td>\n",
       "      <td>1.000000</td>\n",
       "      <td>-9.000000</td>\n",
       "      <td>1.000000e+11</td>\n",
       "      <td>...</td>\n",
       "      <td>0.000000</td>\n",
       "      <td>0.000000</td>\n",
       "      <td>0.00000</td>\n",
       "      <td>0.000000</td>\n",
       "      <td>0.000000</td>\n",
       "      <td>0.000000</td>\n",
       "      <td>0.000000</td>\n",
       "      <td>0.000000</td>\n",
       "      <td>0.00000</td>\n",
       "      <td>0.000000</td>\n",
       "    </tr>\n",
       "    <tr>\n",
       "      <th>25%</th>\n",
       "      <td>12484.571810</td>\n",
       "      <td>19712.839500</td>\n",
       "      <td>23984.510400</td>\n",
       "      <td>30.00000</td>\n",
       "      <td>21094.713600</td>\n",
       "      <td>0.00000</td>\n",
       "      <td>2.000000</td>\n",
       "      <td>4.000000</td>\n",
       "      <td>0.091913</td>\n",
       "      <td>1.860000e+11</td>\n",
       "      <td>...</td>\n",
       "      <td>0.000000</td>\n",
       "      <td>0.000000</td>\n",
       "      <td>0.00000</td>\n",
       "      <td>0.000000</td>\n",
       "      <td>0.000000</td>\n",
       "      <td>0.000000</td>\n",
       "      <td>0.000000</td>\n",
       "      <td>1.000000</td>\n",
       "      <td>0.00000</td>\n",
       "      <td>0.000000</td>\n",
       "    </tr>\n",
       "    <tr>\n",
       "      <th>50%</th>\n",
       "      <td>14507.066310</td>\n",
       "      <td>22765.610400</td>\n",
       "      <td>28367.388000</td>\n",
       "      <td>42.00000</td>\n",
       "      <td>24833.725200</td>\n",
       "      <td>0.00000</td>\n",
       "      <td>3.000000</td>\n",
       "      <td>5.000000</td>\n",
       "      <td>0.181281</td>\n",
       "      <td>1.890000e+11</td>\n",
       "      <td>...</td>\n",
       "      <td>0.000000</td>\n",
       "      <td>1.000000</td>\n",
       "      <td>0.00000</td>\n",
       "      <td>0.000000</td>\n",
       "      <td>0.000000</td>\n",
       "      <td>0.000000</td>\n",
       "      <td>0.000000</td>\n",
       "      <td>1.000000</td>\n",
       "      <td>0.00000</td>\n",
       "      <td>0.000000</td>\n",
       "    </tr>\n",
       "    <tr>\n",
       "      <th>75%</th>\n",
       "      <td>16945.347850</td>\n",
       "      <td>25478.110170</td>\n",
       "      <td>32798.983360</td>\n",
       "      <td>61.00000</td>\n",
       "      <td>29087.542800</td>\n",
       "      <td>0.00000</td>\n",
       "      <td>3.000000</td>\n",
       "      <td>8.000000</td>\n",
       "      <td>0.301200</td>\n",
       "      <td>2.000000e+11</td>\n",
       "      <td>...</td>\n",
       "      <td>0.000000</td>\n",
       "      <td>1.000000</td>\n",
       "      <td>0.00000</td>\n",
       "      <td>0.000000</td>\n",
       "      <td>0.000000</td>\n",
       "      <td>0.000000</td>\n",
       "      <td>0.000000</td>\n",
       "      <td>1.000000</td>\n",
       "      <td>0.00000</td>\n",
       "      <td>0.000000</td>\n",
       "    </tr>\n",
       "    <tr>\n",
       "      <th>max</th>\n",
       "      <td>38248.115380</td>\n",
       "      <td>51022.981920</td>\n",
       "      <td>76501.223200</td>\n",
       "      <td>91.00000</td>\n",
       "      <td>82744.973920</td>\n",
       "      <td>1.00000</td>\n",
       "      <td>10.000000</td>\n",
       "      <td>85.000000</td>\n",
       "      <td>390.000000</td>\n",
       "      <td>2.850000e+11</td>\n",
       "      <td>...</td>\n",
       "      <td>1.000000</td>\n",
       "      <td>1.000000</td>\n",
       "      <td>1.00000</td>\n",
       "      <td>1.000000</td>\n",
       "      <td>1.000000</td>\n",
       "      <td>1.000000</td>\n",
       "      <td>1.000000</td>\n",
       "      <td>1.000000</td>\n",
       "      <td>1.00000</td>\n",
       "      <td>1.000000</td>\n",
       "    </tr>\n",
       "  </tbody>\n",
       "</table>\n",
       "<p>8 rows × 179 columns</p>\n",
       "</div>"
      ],
      "text/plain": [
       "              ABL50         ABL80        ABLMED          AGE        APLMED  \\\n",
       "count  10000.000000  10000.000000  10000.000000  10000.00000  10000.000000   \n",
       "mean   14780.500165  22833.217599  28960.758403     43.80170  24212.650451   \n",
       "std     3231.738014   4339.344356   6464.395512     22.11984   8832.957324   \n",
       "min     6949.001277  11124.026170  13660.379600     -9.00000     -9.000000   \n",
       "25%    12484.571810  19712.839500  23984.510400     30.00000  21094.713600   \n",
       "50%    14507.066310  22765.610400  28367.388000     42.00000  24833.725200   \n",
       "75%    16945.347850  25478.110170  32798.983360     61.00000  29087.542800   \n",
       "max    38248.115380  51022.981920  76501.223200     91.00000  82744.973920   \n",
       "\n",
       "          ASSISTED        BEDRMS         BUILT        BURDEN       CONTROL  \\\n",
       "count  10000.00000  10000.000000  10000.000000  10000.000000  1.000000e+04   \n",
       "mean       0.05430      2.470400     13.280500     -0.694307  1.999318e+11   \n",
       "std        0.22662      1.058601     24.043274      5.025436  4.111055e+10   \n",
       "min        0.00000      0.000000      1.000000     -9.000000  1.000000e+11   \n",
       "25%        0.00000      2.000000      4.000000      0.091913  1.860000e+11   \n",
       "50%        0.00000      3.000000      5.000000      0.181281  1.890000e+11   \n",
       "75%        0.00000      3.000000      8.000000      0.301200  2.000000e+11   \n",
       "max        1.00000     10.000000     85.000000    390.000000  2.850000e+11   \n",
       "\n",
       "                   ...                FMTSTATUS_3 Vacant  \\\n",
       "count              ...                      10000.000000   \n",
       "mean               ...                          0.067400   \n",
       "std                ...                          0.250726   \n",
       "min                ...                          0.000000   \n",
       "25%                ...                          0.000000   \n",
       "50%                ...                          0.000000   \n",
       "75%                ...                          0.000000   \n",
       "max                ...                          1.000000   \n",
       "\n",
       "       FMTSTRUCTURETYPE_1 Single Family  FMTSTRUCTURETYPE_2 2-4 units  \\\n",
       "count                      10000.000000                   10000.00000   \n",
       "mean                           0.618800                       0.13640   \n",
       "std                            0.485706                       0.34323   \n",
       "min                            0.000000                       0.00000   \n",
       "25%                            0.000000                       0.00000   \n",
       "50%                            1.000000                       0.00000   \n",
       "75%                            1.000000                       0.00000   \n",
       "max                            1.000000                       1.00000   \n",
       "\n",
       "       FMTSTRUCTURETYPE_3 5-19 units  FMTSTRUCTURETYPE_4 20-49 units  \\\n",
       "count                   10000.000000                    10000.000000   \n",
       "mean                        0.121500                        0.043600   \n",
       "std                         0.326724                        0.204214   \n",
       "min                         0.000000                        0.000000   \n",
       "25%                         0.000000                        0.000000   \n",
       "50%                         0.000000                        0.000000   \n",
       "75%                         0.000000                        0.000000   \n",
       "max                         1.000000                        1.000000   \n",
       "\n",
       "       FMTSTRUCTURETYPE_5 50+ units  FMTSTRUCTURETYPE_6 Mobile Home  \\\n",
       "count                  10000.000000                    10000.000000   \n",
       "mean                       0.042500                        0.037200   \n",
       "std                        0.201737                        0.189261   \n",
       "min                        0.000000                        0.000000   \n",
       "25%                        0.000000                        0.000000   \n",
       "50%                        0.000000                        0.000000   \n",
       "75%                        0.000000                        0.000000   \n",
       "max                        1.000000                        1.000000   \n",
       "\n",
       "       FMTZADEQ_1 Adequate  FMTZADEQ_2 Moderately Inadequ  \\\n",
       "count         10000.000000                    10000.00000   \n",
       "mean              0.901400                        0.07930   \n",
       "std               0.298139                        0.27022   \n",
       "min               0.000000                        0.00000   \n",
       "25%               1.000000                        0.00000   \n",
       "50%               1.000000                        0.00000   \n",
       "75%               1.000000                        0.00000   \n",
       "max               1.000000                        1.00000   \n",
       "\n",
       "       FMTZADEQ_3 Severely Indadequa  \n",
       "count                   10000.000000  \n",
       "mean                        0.019300  \n",
       "std                         0.137584  \n",
       "min                         0.000000  \n",
       "25%                         0.000000  \n",
       "50%                         0.000000  \n",
       "75%                         0.000000  \n",
       "max                         1.000000  \n",
       "\n",
       "[8 rows x 179 columns]"
      ]
     },
     "execution_count": 261,
     "metadata": {},
     "output_type": "execute_result"
    }
   ],
   "source": [
    "one_hot.describe()"
   ]
  },
  {
   "cell_type": "code",
   "execution_count": 262,
   "metadata": {},
   "outputs": [
    {
     "data": {
      "text/plain": [
       "10000"
      ]
     },
     "execution_count": 262,
     "metadata": {},
     "output_type": "execute_result"
    }
   ],
   "source": [
    "len(one_hot)"
   ]
  },
  {
   "cell_type": "code",
   "execution_count": null,
   "metadata": {
    "collapsed": true
   },
   "outputs": [],
   "source": []
  },
  {
   "cell_type": "code",
   "execution_count": null,
   "metadata": {
    "collapsed": true
   },
   "outputs": [],
   "source": []
  },
  {
   "cell_type": "markdown",
   "metadata": {},
   "source": [
    "#### Printing attributes"
   ]
  },
  {
   "cell_type": "code",
   "execution_count": 263,
   "metadata": {
    "scrolled": true
   },
   "outputs": [
    {
     "name": "stdout",
     "output_type": "stream",
     "text": [
      "ABL50\n",
      "ABL80\n",
      "ABLMED\n",
      "AGE\n",
      "APLMED\n",
      "ASSISTED\n",
      "BEDRMS\n",
      "BUILT\n",
      "BURDEN\n",
      "CONTROL\n",
      "COST06\n",
      "COST06RELAMICAT\n",
      "COST06RELAMIPCT\n",
      "COST06RELFMRCAT\n",
      "COST06RELFMRPCT\n",
      "COST06RELPOVCAT\n",
      "COST06RELPOVPCT\n",
      "COST08\n",
      "COST08RELAMICAT\n",
      "COST08RELAMIPCT\n",
      "COST08RELFMRCAT\n",
      "COST08RELFMRPCT\n",
      "COST08RELPOVCAT\n",
      "COST08RELPOVPCT\n",
      "COST12\n",
      "COST12RELAMICAT\n",
      "COST12RELAMIPCT\n",
      "COST12RELFMRCAT\n",
      "COST12RELFMRPCT\n",
      "COST12RELPOVCAT\n",
      "COST12RELPOVPCT\n",
      "COSTMed\n",
      "COSTMedRELAMICAT\n",
      "COSTMedRELAMIPCT\n",
      "COSTMedRELFMRCAT\n",
      "COSTMedRELFMRPCT\n",
      "COSTMedRELPOVCAT\n",
      "COSTMedRELPOVPCT\n",
      "FMR\n",
      "GL50\n",
      "GL80\n",
      "GLMED\n",
      "INCRELAMICAT\n",
      "INCRELAMIPCT\n",
      "INCRELFMRCAT\n",
      "INCRELFMRPCT\n",
      "INCRELPOVCAT\n",
      "INCRELPOVPCT\n",
      "IPOV\n",
      "ISTATUS\n",
      "L50\n",
      "L80\n",
      "LMED\n",
      "METRO\n",
      "NUNITS\n",
      "OTHERCOST\n",
      "OWNRENT\n",
      "PER\n",
      "REGION\n",
      "ROOMS\n",
      "STRUCTURETYPE\n",
      "TENURE\n",
      "TOTSAL\n",
      "TYPE\n",
      "UTILITY\n",
      "VACANCY\n",
      "VALUE\n",
      "WEIGHT\n",
      "ZADEQ\n",
      "ZINC2\n",
      "ZSMHC\n",
      "DSYEAR\n",
      "ID\n",
      "FMTASSISTED_0 Not Assisted\n",
      "FMTASSISTED_1 Assisted\n",
      "FMTBEDRMS_0 Studio\n",
      "FMTBEDRMS_1 1BR\n",
      "FMTBEDRMS_2 2BR\n",
      "FMTBEDRMS_3 3BR\n",
      "FMTBEDRMS_4 4BR+\n",
      "FMTBUILT_-5\n",
      "FMTBUILT_1940-1959\n",
      "FMTBUILT_1960-1979\n",
      "FMTBUILT_1980-1989\n",
      "FMTBURDEN_.\n",
      "FMTBURDEN_1 Less than 30%\n",
      "FMTBURDEN_2 30% to 50%\n",
      "FMTBURDEN_3 50% or More\n",
      "FMTBURDEN_4 No Income\n",
      "FMTCOST06RELAMICAT_1 LTE 30% AMI\n",
      "FMTCOST06RELAMICAT_2 30 - 50% AMI\n",
      "FMTCOST06RELAMICAT_3 50 - 60% AMI\n",
      "FMTCOST06RELAMICAT_4 60 - 80% AMI\n",
      "FMTCOST06RELAMICAT_5 80 - 100% AMI\n",
      "FMTCOST06RELAMICAT_6 100 - 120% AMI\n",
      "FMTCOST06RELAMICAT_7 120% AMI +\n",
      "FMTCOST06RELFMRCAT_1 LTE 50% FMR\n",
      "FMTCOST06RELFMRCAT_2 50.1 - 100% FMR\n",
      "FMTCOST06RELFMRCAT_3 GT FMR\n",
      "FMTCOST06RELPOVCAT_1 LTE Poverty\n",
      "FMTCOST06RELPOVCAT_2 100-150% Poverty\n",
      "FMTCOST06RELPOVCAT_3 150-200% Poverty\n",
      "FMTCOST06RELPOVCAT_4 200%+ Poverty\n",
      "FMTCOST08RELAMICAT_1 LTE 30% AMI\n",
      "FMTCOST08RELAMICAT_2 30 - 50% AMI\n",
      "FMTCOST08RELAMICAT_3 50 - 60% AMI\n",
      "FMTCOST08RELAMICAT_4 60 - 80% AMI\n",
      "FMTCOST08RELAMICAT_5 80 - 100% AMI\n",
      "FMTCOST08RELAMICAT_6 100 - 120% AMI\n",
      "FMTCOST08RELAMICAT_7 120% AMI +\n",
      "FMTCOST08RELFMRCAT_1 LTE 50% FMR\n",
      "FMTCOST08RELFMRCAT_2 50.1 - 100% FMR\n",
      "FMTCOST08RELFMRCAT_3 GT FMR\n",
      "FMTCOST08RELPOVCAT_1 LTE Poverty\n",
      "FMTCOST08RELPOVCAT_2 100-150% Poverty\n",
      "FMTCOST08RELPOVCAT_3 150-200% Poverty\n",
      "FMTCOST08RELPOVCAT_4 200%+ Poverty\n",
      "FMTCOST12RELAMICAT_1 LTE 30% AMI\n",
      "FMTCOST12RELAMICAT_2 30 - 50% AMI\n",
      "FMTCOST12RELAMICAT_3 50 - 60% AMI\n",
      "FMTCOST12RELAMICAT_4 60 - 80% AMI\n",
      "FMTCOST12RELAMICAT_5 80 - 100% AMI\n",
      "FMTCOST12RELAMICAT_6 100 - 120% AMI\n",
      "FMTCOST12RELAMICAT_7 120% AMI +\n",
      "FMTCOST12RELFMRCAT_1 LTE 50% FMR\n",
      "FMTCOST12RELFMRCAT_2 50.1 - 100% FMR\n",
      "FMTCOST12RELFMRCAT_3 GT FMR\n",
      "FMTCOST12RELPOVCAT_1 LTE Poverty\n",
      "FMTCOST12RELPOVCAT_2 100-150% Poverty\n",
      "FMTCOST12RELPOVCAT_3 150-200% Poverty\n",
      "FMTCOST12RELPOVCAT_4 200%+ Poverty\n",
      "FMTCOSTMEDRELAMICAT_1 LTE 30% AMI\n",
      "FMTCOSTMEDRELAMICAT_2 30 - 50% AMI\n",
      "FMTCOSTMEDRELAMICAT_3 50 - 60% AMI\n",
      "FMTCOSTMEDRELAMICAT_4 60 - 80% AMI\n",
      "FMTCOSTMEDRELAMICAT_5 80 - 100% AMI\n",
      "FMTCOSTMEDRELAMICAT_6 100 - 120% AMI\n",
      "FMTCOSTMEDRELAMICAT_7 120% AMI +\n",
      "FMTCOSTMEDRELFMRCAT_1 LTE 50% FMR\n",
      "FMTCOSTMEDRELFMRCAT_2 50.1 - 100% FMR\n",
      "FMTCOSTMEDRELFMRCAT_3 GT FMR\n",
      "FMTCOSTMEDRELPOVCAT_1 LTE Poverty\n",
      "FMTCOSTMEDRELPOVCAT_2 100-150% Poverty\n",
      "FMTCOSTMEDRELPOVCAT_3 150-200% Poverty\n",
      "FMTCOSTMEDRELPOVCAT_4 200%+ Poverty\n",
      "FMTINCRELAMICAT_.\n",
      "FMTINCRELAMICAT_1 LTE 30% AMI\n",
      "FMTINCRELAMICAT_2 30 - 50% AMI\n",
      "FMTINCRELAMICAT_3 50 - 60% AMI\n",
      "FMTINCRELAMICAT_4 60 - 80% AMI\n",
      "FMTINCRELAMICAT_5 80 - 100% AMI\n",
      "FMTINCRELAMICAT_6 100 - 120% AMI\n",
      "FMTINCRELAMICAT_7 120% AMI +\n",
      "FMTINCRELFMRCAT_.\n",
      "FMTINCRELFMRCAT_1 LTE 50% FMR\n",
      "FMTINCRELFMRCAT_2 50.1 - 100% FMR\n",
      "FMTINCRELFMRCAT_3 GT FMR\n",
      "FMTINCRELPOVCAT_.\n",
      "FMTINCRELPOVCAT_1 LTE Poverty\n",
      "FMTINCRELPOVCAT_2 100-150% Poverty\n",
      "FMTINCRELPOVCAT_3 150-200% Poverty\n",
      "FMTINCRELPOVCAT_4 200%+ Poverty\n",
      "FMTMETRO_-5\n",
      "FMTMETRO_Central City\n",
      "FMTOWNRENT_1 Owner\n",
      "FMTOWNRENT_2 Renter\n",
      "FMTREGION_-5\n",
      "FMTREGION_West\n",
      "FMTSTATUS_1 Occupied\n",
      "FMTSTATUS_3 Vacant\n",
      "FMTSTRUCTURETYPE_1 Single Family\n",
      "FMTSTRUCTURETYPE_2 2-4 units\n",
      "FMTSTRUCTURETYPE_3 5-19 units\n",
      "FMTSTRUCTURETYPE_4 20-49 units\n",
      "FMTSTRUCTURETYPE_5 50+ units\n",
      "FMTSTRUCTURETYPE_6 Mobile Home\n",
      "FMTZADEQ_1 Adequate\n",
      "FMTZADEQ_2 Moderately Inadequ\n",
      "FMTZADEQ_3 Severely Indadequa\n"
     ]
    }
   ],
   "source": [
    "for i in one_hot.columns :\n",
    "    print (i)"
   ]
  },
  {
   "cell_type": "markdown",
   "metadata": {},
   "source": [
    "#### Normalising Fair market rent"
   ]
  },
  {
   "cell_type": "code",
   "execution_count": 264,
   "metadata": {},
   "outputs": [],
   "source": [
    "train_data['rent_range'] = train_data['FMR'] + 50\n",
    "train_data['rent_range'] = train_data['rent_range']/100\n",
    "import math\n",
    "train_data['rent_range'] = train_data['rent_range'].apply(lambda x : math.floor(x))"
   ]
  },
  {
   "cell_type": "markdown",
   "metadata": {},
   "source": [
    "#### Normalising burden"
   ]
  },
  {
   "cell_type": "code",
   "execution_count": 265,
   "metadata": {
    "collapsed": true
   },
   "outputs": [],
   "source": [
    "train_data['burden_range'] = train_data['BURDEN'] + 50\n",
    "train_data['burden_range'] = train_data['burden_range']/100\n",
    "import math\n",
    "train_data['burden_range'] = train_data['burden_range'].apply(lambda x : math.floor(x))"
   ]
  },
  {
   "cell_type": "markdown",
   "metadata": {},
   "source": [
    "#### To predict FMR, we will delete all the attributes those directly afftect the FMR and try to predict it without using any direct link"
   ]
  },
  {
   "cell_type": "code",
   "execution_count": 266,
   "metadata": {
    "collapsed": true
   },
   "outputs": [],
   "source": [
    "train_data = train_data.drop(['FMR','INCRELFMRPCT','INCRELFMRCAT','FMTINCRELFMRCAT','FMTCOSTMEDRELFMRCAT','FMTCOST12RELFMRCAT','FMTCOST08RELFMRCAT','FMTCOST06RELFMRCAT','COSTMedRELFMRPCT','COSTMedRELFMRCAT','COST12RELFMRPCT','COST12RELFMRCAT','COST08RELFMRPCT','COST08RELFMRCAT','COST06RELFMRPCT','COST06RELFMRCAT','BURDEN','ID'],axis=1)"
   ]
  },
  {
   "cell_type": "code",
   "execution_count": 267,
   "metadata": {},
   "outputs": [
    {
     "name": "stdout",
     "output_type": "stream",
     "text": [
      "ABL50\n",
      "ABL80\n",
      "ABLMED\n",
      "AGE\n",
      "APLMED\n",
      "ASSISTED\n",
      "BEDRMS\n",
      "BUILT\n",
      "CONTROL\n",
      "COST06\n",
      "COST06RELAMICAT\n",
      "COST06RELAMIPCT\n",
      "COST06RELPOVCAT\n",
      "COST06RELPOVPCT\n",
      "COST08\n",
      "COST08RELAMICAT\n",
      "COST08RELAMIPCT\n",
      "COST08RELPOVCAT\n",
      "COST08RELPOVPCT\n",
      "COST12\n",
      "COST12RELAMICAT\n",
      "COST12RELAMIPCT\n",
      "COST12RELPOVCAT\n",
      "COST12RELPOVPCT\n",
      "COSTMed\n",
      "COSTMedRELAMICAT\n",
      "COSTMedRELAMIPCT\n",
      "COSTMedRELPOVCAT\n",
      "COSTMedRELPOVPCT\n",
      "FMTASSISTED\n",
      "FMTBEDRMS\n",
      "FMTBUILT\n",
      "FMTBURDEN\n",
      "FMTCOST06RELAMICAT\n",
      "FMTCOST06RELPOVCAT\n",
      "FMTCOST08RELAMICAT\n",
      "FMTCOST08RELPOVCAT\n",
      "FMTCOST12RELAMICAT\n",
      "FMTCOST12RELPOVCAT\n",
      "FMTCOSTMEDRELAMICAT\n",
      "FMTCOSTMEDRELPOVCAT\n",
      "FMTINCRELAMICAT\n",
      "FMTINCRELPOVCAT\n",
      "FMTMETRO\n",
      "FMTOWNRENT\n",
      "FMTREGION\n",
      "FMTSTATUS\n",
      "FMTSTRUCTURETYPE\n",
      "FMTZADEQ\n",
      "GL50\n",
      "GL80\n",
      "GLMED\n",
      "INCRELAMICAT\n",
      "INCRELAMIPCT\n",
      "INCRELPOVCAT\n",
      "INCRELPOVPCT\n",
      "IPOV\n",
      "ISTATUS\n",
      "L50\n",
      "L80\n",
      "LMED\n",
      "METRO\n",
      "NUNITS\n",
      "OTHERCOST\n",
      "OWNRENT\n",
      "PER\n",
      "REGION\n",
      "ROOMS\n",
      "STRUCTURETYPE\n",
      "TENURE\n",
      "TOTSAL\n",
      "TYPE\n",
      "UTILITY\n",
      "VACANCY\n",
      "VALUE\n",
      "WEIGHT\n",
      "ZADEQ\n",
      "ZINC2\n",
      "ZSMHC\n",
      "DSYEAR\n",
      "rent_range\n",
      "burden_range\n"
     ]
    }
   ],
   "source": [
    "for i in train_data.columns :\n",
    "    print (i)"
   ]
  },
  {
   "cell_type": "code",
   "execution_count": 268,
   "metadata": {},
   "outputs": [
    {
     "data": {
      "text/plain": [
       "82"
      ]
     },
     "execution_count": 268,
     "metadata": {},
     "output_type": "execute_result"
    }
   ],
   "source": [
    "len(train_data.columns)"
   ]
  },
  {
   "cell_type": "code",
   "execution_count": 269,
   "metadata": {
    "collapsed": true
   },
   "outputs": [],
   "source": [
    "train_data = pd.get_dummies(train_data)\n",
    "train_data = pd.DataFrame(train_data)"
   ]
  },
  {
   "cell_type": "markdown",
   "metadata": {},
   "source": [
    "## Predicting fair market rent"
   ]
  },
  {
   "cell_type": "code",
   "execution_count": 270,
   "metadata": {
    "collapsed": true
   },
   "outputs": [],
   "source": [
    "trainmodel=[]\n",
    "testmodel=[]"
   ]
  },
  {
   "cell_type": "code",
   "execution_count": 271,
   "metadata": {},
   "outputs": [],
   "source": [
    "from sklearn.cross_validation  import train_test_split\n",
    "train_X,test_X,train_y,test_y = train_test_split(train_data,train_data.rent_range,test_size=0.25,random_state=42)"
   ]
  },
  {
   "cell_type": "markdown",
   "metadata": {},
   "source": [
    "#### Decision tree"
   ]
  },
  {
   "cell_type": "markdown",
   "metadata": {},
   "source": [
    "Decision tree is an supervised learning algorithm which works for both categorical data and continuous data"
   ]
  },
  {
   "cell_type": "code",
   "execution_count": 272,
   "metadata": {
    "collapsed": true
   },
   "outputs": [],
   "source": [
    "from sklearn.tree import DecisionTreeClassifier\n",
    "clf = DecisionTreeClassifier()\n",
    "clf.fit(train_X,train_y)\n",
    "\n",
    "prediction = clf.predict(test_X)\n",
    "## Computing accuracy\n",
    "from sklearn.metrics import accuracy_score\n",
    "trainmodel.append(accuracy_score(prediction, test_y))"
   ]
  },
  {
   "cell_type": "markdown",
   "metadata": {},
   "source": [
    "#### Printing accuracy"
   ]
  },
  {
   "cell_type": "code",
   "execution_count": 273,
   "metadata": {},
   "outputs": [
    {
     "name": "stdout",
     "output_type": "stream",
     "text": [
      "0.9988\n"
     ]
    }
   ],
   "source": [
    "from sklearn.metrics import accuracy_score\n",
    "print( accuracy_score(test_y,clf.predict(test_X)))"
   ]
  },
  {
   "cell_type": "code",
   "execution_count": 274,
   "metadata": {
    "collapsed": true
   },
   "outputs": [],
   "source": [
    "from sklearn.tree import DecisionTreeClassifier\n",
    "clf = DecisionTreeClassifier()\n",
    "clf.fit(test_X,test_y)\n",
    "prediction = clf.predict(test_X)\n",
    "\n",
    "## Computing accuracy\n",
    "from sklearn.metrics import accuracy_score\n",
    "testmodel.append(accuracy_score(prediction, test_y))"
   ]
  },
  {
   "cell_type": "code",
   "execution_count": 275,
   "metadata": {},
   "outputs": [
    {
     "name": "stdout",
     "output_type": "stream",
     "text": [
      "1.0\n"
     ]
    }
   ],
   "source": [
    "from sklearn.metrics import accuracy_score\n",
    "print( accuracy_score(test_y,clf.predict(test_X)))"
   ]
  },
  {
   "cell_type": "code",
   "execution_count": 276,
   "metadata": {
    "collapsed": true
   },
   "outputs": [],
   "source": [
    "#test\n",
    "from sklearn import tree\n",
    "clf = tree.DecisionTreeClassifier(criterion='entropy', splitter='best',presort=True)\n",
    "clf.fit(train_X, train_y)\n",
    "prediction = clf.predict(test_X)\n",
    "## Computing accuracy\n",
    "from sklearn.metrics import accuracy_score\n",
    "testmodel.append(accuracy_score(prediction, test_y))\n"
   ]
  },
  {
   "cell_type": "code",
   "execution_count": 277,
   "metadata": {
    "collapsed": true
   },
   "outputs": [],
   "source": [
    "#m2-test\n",
    "from sklearn import tree\n",
    "arr=[4,6,8,10]\n",
    "for i in arr:\n",
    "    clf = tree.DecisionTreeClassifier(criterion='entropy', splitter='random',min_samples_split=i)\n",
    "    clf.fit(train_X, train_y)\n",
    "    prediction = clf.predict(test_X)\n",
    "    ## Computing accuracy\n",
    "    from sklearn.metrics import accuracy_score\n",
    "    testmodel.append(accuracy_score(prediction, test_y))"
   ]
  },
  {
   "cell_type": "code",
   "execution_count": 278,
   "metadata": {
    "collapsed": true
   },
   "outputs": [],
   "source": [
    "#m1-train\n",
    "from sklearn import tree\n",
    "clf = tree.DecisionTreeClassifier(criterion='entropy', splitter='best',presort=True)\n",
    "clf.fit(train_X, train_y)\n",
    "prediction = clf.predict(train_X)\n",
    "## Computing accuracy\n",
    "from sklearn.metrics import accuracy_score\n",
    "trainmodel.append(accuracy_score(prediction, train_y))"
   ]
  },
  {
   "cell_type": "code",
   "execution_count": 279,
   "metadata": {
    "collapsed": true
   },
   "outputs": [],
   "source": [
    "#m2-train\n",
    "from sklearn import tree\n",
    "arr=[4,6,8,10]\n",
    "for i in arr:\n",
    "    clf = tree.DecisionTreeClassifier(criterion='entropy', splitter='random',min_samples_split=i)\n",
    "    clf.fit(train_X, train_y)\n",
    "    prediction = clf.predict(train_X)\n",
    "    ## Computing accuracy\n",
    "    from sklearn.metrics import accuracy_score\n",
    "    trainmodel.append(accuracy_score(prediction, train_y))"
   ]
  },
  {
   "cell_type": "code",
   "execution_count": 280,
   "metadata": {},
   "outputs": [
    {
     "data": {
      "text/plain": [
       "[0.99880000000000002,\n",
       " 1.0,\n",
       " 0.99986666666666668,\n",
       " 0.99986666666666668,\n",
       " 0.99853333333333338,\n",
       " 0.99946666666666661]"
      ]
     },
     "execution_count": 280,
     "metadata": {},
     "output_type": "execute_result"
    }
   ],
   "source": [
    "trainmodel"
   ]
  },
  {
   "cell_type": "code",
   "execution_count": 281,
   "metadata": {},
   "outputs": [
    {
     "data": {
      "text/plain": [
       "[1.0,\n",
       " 0.99919999999999998,\n",
       " 0.998,\n",
       " 0.99919999999999998,\n",
       " 0.99880000000000002,\n",
       " 0.99760000000000004]"
      ]
     },
     "execution_count": 281,
     "metadata": {},
     "output_type": "execute_result"
    }
   ],
   "source": [
    "testmodel"
   ]
  },
  {
   "cell_type": "code",
   "execution_count": 282,
   "metadata": {},
   "outputs": [
    {
     "data": {
      "text/plain": [
       "<matplotlib.axes._subplots.AxesSubplot at 0x1280e8f860>"
      ]
     },
     "execution_count": 282,
     "metadata": {},
     "output_type": "execute_result"
    },
    {
     "data": {
      "image/png": "[encoded data removed]",
      "text/plain": [
       "<matplotlib.figure.Figure at 0x128004dcf8>"
      ]
     },
     "metadata": {},
     "output_type": "display_data"
    }
   ],
   "source": [
    "dat=pd.DataFrame(index=[1,2,3,4,5,6])\n",
    "dat['validation error']=testmodel\n",
    "dat['training error']=trainmodel\n",
    "#dat.set_index(\"models\")\n",
    "dat.plot(title=\"Models Pereformance Graph\")"
   ]
  },
  {
   "cell_type": "code",
   "execution_count": 283,
   "metadata": {
    "collapsed": true
   },
   "outputs": [],
   "source": [
    "dat['difference']=dat['training error']-dat['validation error']"
   ]
  },
  {
   "cell_type": "code",
   "execution_count": 284,
   "metadata": {},
   "outputs": [
    {
     "data": {
      "text/html": [
       "<div>\n",
       "<style>\n",
       "    .dataframe thead tr:only-child th {\n",
       "        text-align: right;\n",
       "    }\n",
       "\n",
       "    .dataframe thead th {\n",
       "        text-align: left;\n",
       "    }\n",
       "\n",
       "    .dataframe tbody tr th {\n",
       "        vertical-align: top;\n",
       "    }\n",
       "</style>\n",
       "<table border=\"1\" class=\"dataframe\">\n",
       "  <thead>\n",
       "    <tr style=\"text-align: right;\">\n",
       "      <th></th>\n",
       "      <th>validation error</th>\n",
       "      <th>training error</th>\n",
       "      <th>difference</th>\n",
       "    </tr>\n",
       "  </thead>\n",
       "  <tbody>\n",
       "    <tr>\n",
       "      <th>1</th>\n",
       "      <td>1.0000</td>\n",
       "      <td>0.998800</td>\n",
       "      <td>-0.001200</td>\n",
       "    </tr>\n",
       "    <tr>\n",
       "      <th>2</th>\n",
       "      <td>0.9992</td>\n",
       "      <td>1.000000</td>\n",
       "      <td>0.000800</td>\n",
       "    </tr>\n",
       "    <tr>\n",
       "      <th>3</th>\n",
       "      <td>0.9980</td>\n",
       "      <td>0.999867</td>\n",
       "      <td>0.001867</td>\n",
       "    </tr>\n",
       "    <tr>\n",
       "      <th>4</th>\n",
       "      <td>0.9992</td>\n",
       "      <td>0.999867</td>\n",
       "      <td>0.000667</td>\n",
       "    </tr>\n",
       "    <tr>\n",
       "      <th>5</th>\n",
       "      <td>0.9988</td>\n",
       "      <td>0.998533</td>\n",
       "      <td>-0.000267</td>\n",
       "    </tr>\n",
       "    <tr>\n",
       "      <th>6</th>\n",
       "      <td>0.9976</td>\n",
       "      <td>0.999467</td>\n",
       "      <td>0.001867</td>\n",
       "    </tr>\n",
       "  </tbody>\n",
       "</table>\n",
       "</div>"
      ],
      "text/plain": [
       "   validation error  training error  difference\n",
       "1            1.0000        0.998800   -0.001200\n",
       "2            0.9992        1.000000    0.000800\n",
       "3            0.9980        0.999867    0.001867\n",
       "4            0.9992        0.999867    0.000667\n",
       "5            0.9988        0.998533   -0.000267\n",
       "6            0.9976        0.999467    0.001867"
      ]
     },
     "execution_count": 284,
     "metadata": {},
     "output_type": "execute_result"
    }
   ],
   "source": [
    "dat"
   ]
  },
  {
   "cell_type": "markdown",
   "metadata": {},
   "source": [
    "#### Analysing the above table which gives us the differnce between tarining and validating error we can conclude that the model with least differnce is the best model. So the 4th model is the  best model in decision tree analysis of our data set.   "
   ]
  },
  {
   "cell_type": "code",
   "execution_count": 20,
   "metadata": {
    "collapsed": true
   },
   "outputs": [],
   "source": [
    "X_train_1 = train_X\n",
    "X_test_1 = test_X\n",
    "Y_train_1 = train_y\n",
    "Y_test_1 = test_y\n",
    "#Import Library\n",
    "from sklearn.ensemble import RandomForestRegressor #use RandomForestRegressor for regression problem\n",
    "#Assumed you have, X (predictor) and Y (target) for training data set and x_test(predictor) of test_dataset\n",
    "# Create Random Forest object\n",
    "model= RandomForestRegressor()\n",
    "# Train the model using the training sets and check score\n",
    "model.fit(X_train_1, Y_train_1)\n",
    "#Predict Output\n",
    "prediction= model.predict(X_test_1)"
   ]
  },
  {
   "cell_type": "code",
   "execution_count": 21,
   "metadata": {},
   "outputs": [
    {
     "data": {
      "text/plain": [
       "array([ 6. ,  5. ,  4.7, ...,  4. ,  4. ,  3.8])"
      ]
     },
     "execution_count": 21,
     "metadata": {},
     "output_type": "execute_result"
    }
   ],
   "source": [
    "prediction"
   ]
  },
  {
   "cell_type": "code",
   "execution_count": 22,
   "metadata": {},
   "outputs": [
    {
     "data": {
      "text/plain": [
       "0.98302461203025338"
      ]
     },
     "execution_count": 22,
     "metadata": {},
     "output_type": "execute_result"
    }
   ],
   "source": [
    "from sklearn.metrics import explained_variance_score\n",
    "explained_variance_score(test_y, prediction)"
   ]
  },
  {
   "cell_type": "code",
   "execution_count": 25,
   "metadata": {},
   "outputs": [
    {
     "data": {
      "text/plain": [
       "0.98302403203184552"
      ]
     },
     "execution_count": 25,
     "metadata": {},
     "output_type": "execute_result"
    }
   ],
   "source": [
    "from sklearn.metrics import r2_score\n",
    "r2_score(test_y, prediction)"
   ]
  },
  {
   "cell_type": "code",
   "execution_count": 26,
   "metadata": {
    "collapsed": true
   },
   "outputs": [],
   "source": []
  },
  {
   "cell_type": "code",
   "execution_count": 28,
   "metadata": {},
   "outputs": [
    {
     "ename": "ValueError",
     "evalue": "Length of values does not match length of index",
     "output_type": "error",
     "traceback": [
      "\u001b[1;31m---------------------------------------------------------------------------\u001b[0m",
      "\u001b[1;31mValueError\u001b[0m                                Traceback (most recent call last)",
      "\u001b[1;32m<ipython-input-28-d6058dfddabe>\u001b[0m in \u001b[0;36m<module>\u001b[1;34m()\u001b[0m\n\u001b[0;32m      1\u001b[0m \u001b[0mdat\u001b[0m\u001b[1;33m=\u001b[0m\u001b[0mpd\u001b[0m\u001b[1;33m.\u001b[0m\u001b[0mDataFrame\u001b[0m\u001b[1;33m(\u001b[0m\u001b[0mindex\u001b[0m\u001b[1;33m=\u001b[0m\u001b[1;33m[\u001b[0m\u001b[1;36m1\u001b[0m\u001b[1;33m,\u001b[0m\u001b[1;36m2\u001b[0m\u001b[1;33m,\u001b[0m\u001b[1;36m3\u001b[0m\u001b[1;33m]\u001b[0m\u001b[1;33m)\u001b[0m\u001b[1;33m\u001b[0m\u001b[0m\n\u001b[1;32m----> 2\u001b[1;33m \u001b[0mdat\u001b[0m\u001b[1;33m[\u001b[0m\u001b[1;34m'validation error'\u001b[0m\u001b[1;33m]\u001b[0m\u001b[1;33m=\u001b[0m\u001b[0mtestmodel\u001b[0m\u001b[1;33m\u001b[0m\u001b[0m\n\u001b[0m\u001b[0;32m      3\u001b[0m \u001b[0mdat\u001b[0m\u001b[1;33m[\u001b[0m\u001b[1;34m'training error'\u001b[0m\u001b[1;33m]\u001b[0m\u001b[1;33m=\u001b[0m\u001b[0mtrainmodel\u001b[0m\u001b[1;33m\u001b[0m\u001b[0m\n\u001b[0;32m      4\u001b[0m \u001b[1;31m#dat.set_index(\"models\")\u001b[0m\u001b[1;33m\u001b[0m\u001b[1;33m\u001b[0m\u001b[0m\n\u001b[0;32m      5\u001b[0m \u001b[0mdat\u001b[0m\u001b[1;33m.\u001b[0m\u001b[0mplot\u001b[0m\u001b[1;33m(\u001b[0m\u001b[0mtitle\u001b[0m\u001b[1;33m=\u001b[0m\u001b[1;34m\"Models Pereformance Graph\"\u001b[0m\u001b[1;33m)\u001b[0m\u001b[1;33m\u001b[0m\u001b[0m\n",
      "\u001b[1;32mC:\\ProgramData\\Anaconda3\\lib\\site-packages\\pandas\\core\\frame.py\u001b[0m in \u001b[0;36m__setitem__\u001b[1;34m(self, key, value)\u001b[0m\n\u001b[0;32m   2427\u001b[0m         \u001b[1;32melse\u001b[0m\u001b[1;33m:\u001b[0m\u001b[1;33m\u001b[0m\u001b[0m\n\u001b[0;32m   2428\u001b[0m             \u001b[1;31m# set column\u001b[0m\u001b[1;33m\u001b[0m\u001b[1;33m\u001b[0m\u001b[0m\n\u001b[1;32m-> 2429\u001b[1;33m             \u001b[0mself\u001b[0m\u001b[1;33m.\u001b[0m\u001b[0m_set_item\u001b[0m\u001b[1;33m(\u001b[0m\u001b[0mkey\u001b[0m\u001b[1;33m,\u001b[0m \u001b[0mvalue\u001b[0m\u001b[1;33m)\u001b[0m\u001b[1;33m\u001b[0m\u001b[0m\n\u001b[0m\u001b[0;32m   2430\u001b[0m \u001b[1;33m\u001b[0m\u001b[0m\n\u001b[0;32m   2431\u001b[0m     \u001b[1;32mdef\u001b[0m \u001b[0m_setitem_slice\u001b[0m\u001b[1;33m(\u001b[0m\u001b[0mself\u001b[0m\u001b[1;33m,\u001b[0m \u001b[0mkey\u001b[0m\u001b[1;33m,\u001b[0m \u001b[0mvalue\u001b[0m\u001b[1;33m)\u001b[0m\u001b[1;33m:\u001b[0m\u001b[1;33m\u001b[0m\u001b[0m\n",
      "\u001b[1;32mC:\\ProgramData\\Anaconda3\\lib\\site-packages\\pandas\\core\\frame.py\u001b[0m in \u001b[0;36m_set_item\u001b[1;34m(self, key, value)\u001b[0m\n\u001b[0;32m   2493\u001b[0m \u001b[1;33m\u001b[0m\u001b[0m\n\u001b[0;32m   2494\u001b[0m         \u001b[0mself\u001b[0m\u001b[1;33m.\u001b[0m\u001b[0m_ensure_valid_index\u001b[0m\u001b[1;33m(\u001b[0m\u001b[0mvalue\u001b[0m\u001b[1;33m)\u001b[0m\u001b[1;33m\u001b[0m\u001b[0m\n\u001b[1;32m-> 2495\u001b[1;33m         \u001b[0mvalue\u001b[0m \u001b[1;33m=\u001b[0m \u001b[0mself\u001b[0m\u001b[1;33m.\u001b[0m\u001b[0m_sanitize_column\u001b[0m\u001b[1;33m(\u001b[0m\u001b[0mkey\u001b[0m\u001b[1;33m,\u001b[0m \u001b[0mvalue\u001b[0m\u001b[1;33m)\u001b[0m\u001b[1;33m\u001b[0m\u001b[0m\n\u001b[0m\u001b[0;32m   2496\u001b[0m         \u001b[0mNDFrame\u001b[0m\u001b[1;33m.\u001b[0m\u001b[0m_set_item\u001b[0m\u001b[1;33m(\u001b[0m\u001b[0mself\u001b[0m\u001b[1;33m,\u001b[0m \u001b[0mkey\u001b[0m\u001b[1;33m,\u001b[0m \u001b[0mvalue\u001b[0m\u001b[1;33m)\u001b[0m\u001b[1;33m\u001b[0m\u001b[0m\n\u001b[0;32m   2497\u001b[0m \u001b[1;33m\u001b[0m\u001b[0m\n",
      "\u001b[1;32mC:\\ProgramData\\Anaconda3\\lib\\site-packages\\pandas\\core\\frame.py\u001b[0m in \u001b[0;36m_sanitize_column\u001b[1;34m(self, key, value, broadcast)\u001b[0m\n\u001b[0;32m   2664\u001b[0m \u001b[1;33m\u001b[0m\u001b[0m\n\u001b[0;32m   2665\u001b[0m             \u001b[1;31m# turn me into an ndarray\u001b[0m\u001b[1;33m\u001b[0m\u001b[1;33m\u001b[0m\u001b[0m\n\u001b[1;32m-> 2666\u001b[1;33m             \u001b[0mvalue\u001b[0m \u001b[1;33m=\u001b[0m \u001b[0m_sanitize_index\u001b[0m\u001b[1;33m(\u001b[0m\u001b[0mvalue\u001b[0m\u001b[1;33m,\u001b[0m \u001b[0mself\u001b[0m\u001b[1;33m.\u001b[0m\u001b[0mindex\u001b[0m\u001b[1;33m,\u001b[0m \u001b[0mcopy\u001b[0m\u001b[1;33m=\u001b[0m\u001b[1;32mFalse\u001b[0m\u001b[1;33m)\u001b[0m\u001b[1;33m\u001b[0m\u001b[0m\n\u001b[0m\u001b[0;32m   2667\u001b[0m             \u001b[1;32mif\u001b[0m \u001b[1;32mnot\u001b[0m \u001b[0misinstance\u001b[0m\u001b[1;33m(\u001b[0m\u001b[0mvalue\u001b[0m\u001b[1;33m,\u001b[0m \u001b[1;33m(\u001b[0m\u001b[0mnp\u001b[0m\u001b[1;33m.\u001b[0m\u001b[0mndarray\u001b[0m\u001b[1;33m,\u001b[0m \u001b[0mIndex\u001b[0m\u001b[1;33m)\u001b[0m\u001b[1;33m)\u001b[0m\u001b[1;33m:\u001b[0m\u001b[1;33m\u001b[0m\u001b[0m\n\u001b[0;32m   2668\u001b[0m                 \u001b[1;32mif\u001b[0m \u001b[0misinstance\u001b[0m\u001b[1;33m(\u001b[0m\u001b[0mvalue\u001b[0m\u001b[1;33m,\u001b[0m \u001b[0mlist\u001b[0m\u001b[1;33m)\u001b[0m \u001b[1;32mand\u001b[0m \u001b[0mlen\u001b[0m\u001b[1;33m(\u001b[0m\u001b[0mvalue\u001b[0m\u001b[1;33m)\u001b[0m \u001b[1;33m>\u001b[0m \u001b[1;36m0\u001b[0m\u001b[1;33m:\u001b[0m\u001b[1;33m\u001b[0m\u001b[0m\n",
      "\u001b[1;32mC:\\ProgramData\\Anaconda3\\lib\\site-packages\\pandas\\core\\series.py\u001b[0m in \u001b[0;36m_sanitize_index\u001b[1;34m(data, index, copy)\u001b[0m\n\u001b[0;32m   2877\u001b[0m \u001b[1;33m\u001b[0m\u001b[0m\n\u001b[0;32m   2878\u001b[0m     \u001b[1;32mif\u001b[0m \u001b[0mlen\u001b[0m\u001b[1;33m(\u001b[0m\u001b[0mdata\u001b[0m\u001b[1;33m)\u001b[0m \u001b[1;33m!=\u001b[0m \u001b[0mlen\u001b[0m\u001b[1;33m(\u001b[0m\u001b[0mindex\u001b[0m\u001b[1;33m)\u001b[0m\u001b[1;33m:\u001b[0m\u001b[1;33m\u001b[0m\u001b[0m\n\u001b[1;32m-> 2879\u001b[1;33m         \u001b[1;32mraise\u001b[0m \u001b[0mValueError\u001b[0m\u001b[1;33m(\u001b[0m\u001b[1;34m'Length of values does not match length of '\u001b[0m \u001b[1;34m'index'\u001b[0m\u001b[1;33m)\u001b[0m\u001b[1;33m\u001b[0m\u001b[0m\n\u001b[0m\u001b[0;32m   2880\u001b[0m \u001b[1;33m\u001b[0m\u001b[0m\n\u001b[0;32m   2881\u001b[0m     \u001b[1;32mif\u001b[0m \u001b[0misinstance\u001b[0m\u001b[1;33m(\u001b[0m\u001b[0mdata\u001b[0m\u001b[1;33m,\u001b[0m \u001b[0mPeriodIndex\u001b[0m\u001b[1;33m)\u001b[0m\u001b[1;33m:\u001b[0m\u001b[1;33m\u001b[0m\u001b[0m\n",
      "\u001b[1;31mValueError\u001b[0m: Length of values does not match length of index"
     ]
    }
   ],
   "source": [
    "dat=pd.DataFrame(index=[1,2,3])\n",
    "dat['validation error']=testmodel\n",
    "dat['training error']=trainmodel\n",
    "#dat.set_index(\"models\")\n",
    "dat.plot(title=\"Models Pereformance Graph\")"
   ]
  },
  {
   "cell_type": "markdown",
   "metadata": {},
   "source": [
    "## Linear Regression"
   ]
  },
  {
   "cell_type": "markdown",
   "metadata": {},
   "source": [
    "It is used to estimate real values based on continuous variable. Here, we establish relationship between independent and dependent variables by fitting a best line. This best fit line is known as regression line"
   ]
  },
  {
   "cell_type": "code",
   "execution_count": 285,
   "metadata": {
    "collapsed": true
   },
   "outputs": [],
   "source": [
    "train_reg=[]\n",
    "test_reg=[]"
   ]
  },
  {
   "cell_type": "code",
   "execution_count": 286,
   "metadata": {},
   "outputs": [
    {
     "data": {
      "text/plain": [
       "0.99999999999952327"
      ]
     },
     "execution_count": 286,
     "metadata": {},
     "output_type": "execute_result"
    }
   ],
   "source": [
    "from sklearn import linear_model\n",
    "reg = linear_model.LinearRegression()\n",
    "reg.fit (train_X,train_y)\n",
    "\n",
    "predicted1 = reg.predict(test_X)\n",
    "\n",
    "from sklearn.metrics import explained_variance_score\n",
    "\n",
    "#models.append(\"LinearRegression\")\n",
    "train_reg.append(explained_variance_score(test_y,predicted1) )\n",
    "\n",
    "explained_variance_score(test_y,predicted1)"
   ]
  },
  {
   "cell_type": "code",
   "execution_count": 287,
   "metadata": {},
   "outputs": [
    {
     "data": {
      "text/plain": [
       "0.99999999999749933"
      ]
     },
     "execution_count": 287,
     "metadata": {},
     "output_type": "execute_result"
    }
   ],
   "source": [
    "from sklearn import linear_model\n",
    "reg = linear_model.LinearRegression()\n",
    "reg.fit (test_X,test_y)\n",
    "\n",
    "predicted1 = reg.predict(test_X)\n",
    "\n",
    "from sklearn.metrics import explained_variance_score\n",
    "\n",
    "#models.append(\"LinearRegression\")\n",
    "test_reg.append(explained_variance_score(test_y,predicted1) )\n",
    "\n",
    "explained_variance_score(test_y,predicted1)"
   ]
  },
  {
   "cell_type": "code",
   "execution_count": 288,
   "metadata": {},
   "outputs": [
    {
     "data": {
      "text/plain": [
       "0.99999999559159103"
      ]
     },
     "execution_count": 288,
     "metadata": {},
     "output_type": "execute_result"
    }
   ],
   "source": [
    "from sklearn import linear_model\n",
    "reg1 = linear_model.Ridge (alpha = .5)\n",
    "reg1.fit (train_X,train_y)\n",
    "\n",
    "predicted3 = reg1.predict(test_X)\n",
    "\n",
    "from sklearn.metrics import explained_variance_score\n",
    "\n",
    "#models.append(\"Ridge Linear Regression\")\n",
    "train_reg.append(explained_variance_score(test_y,predicted3) )\n",
    "explained_variance_score(test_y,predicted3)"
   ]
  },
  {
   "cell_type": "code",
   "execution_count": 289,
   "metadata": {},
   "outputs": [
    {
     "data": {
      "text/plain": [
       "0.99999995259010022"
      ]
     },
     "execution_count": 289,
     "metadata": {},
     "output_type": "execute_result"
    }
   ],
   "source": [
    "from sklearn import linear_model\n",
    "reg1 = linear_model.Ridge (alpha = .5)\n",
    "reg1.fit (test_X,test_y)\n",
    "\n",
    "predicted4 = reg1.predict(test_X)\n",
    "\n",
    "from sklearn.metrics import explained_variance_score\n",
    "\n",
    "#models.append(\"Ridge Linear Regression\")\n",
    "test_reg.append(explained_variance_score(test_y,predicted4) )\n",
    "explained_variance_score(test_y,predicted4)"
   ]
  },
  {
   "cell_type": "code",
   "execution_count": 290,
   "metadata": {},
   "outputs": [
    {
     "data": {
      "text/plain": [
       "[0.99999999999952327, 0.99999999559159103]"
      ]
     },
     "execution_count": 290,
     "metadata": {},
     "output_type": "execute_result"
    }
   ],
   "source": [
    "train_reg"
   ]
  },
  {
   "cell_type": "code",
   "execution_count": 291,
   "metadata": {},
   "outputs": [
    {
     "data": {
      "text/plain": [
       "[0.99999999999749933, 0.99999995259010022]"
      ]
     },
     "execution_count": 291,
     "metadata": {},
     "output_type": "execute_result"
    }
   ],
   "source": [
    "test_reg"
   ]
  },
  {
   "cell_type": "code",
   "execution_count": 292,
   "metadata": {},
   "outputs": [
    {
     "data": {
      "text/plain": [
       "<matplotlib.axes._subplots.AxesSubplot at 0x12804c1d68>"
      ]
     },
     "execution_count": 292,
     "metadata": {},
     "output_type": "execute_result"
    },
    {
     "data": {
      "image/png": "[encoded data removed]",
      "text/plain": [
       "<matplotlib.figure.Figure at 0x128006ce48>"
      ]
     },
     "metadata": {},
     "output_type": "display_data"
    }
   ],
   "source": [
    "dat=pd.DataFrame(index=[1,2])\n",
    "dat['validation error']=test_reg\n",
    "dat['training error']=train_reg\n",
    "#dat.set_index(\"models\")\n",
    "dat.plot(title=\"Models Pereformance Graph\")"
   ]
  },
  {
   "cell_type": "markdown",
   "metadata": {},
   "source": [
    "### XGBoost"
   ]
  },
  {
   "cell_type": "markdown",
   "metadata": {},
   "source": [
    "Gradient boosting is a machine learning technique for regression and classification problems, which produces a prediction model in the form of an ensemble of weak prediction models and also helps to reduce overfitting"
   ]
  },
  {
   "cell_type": "code",
   "execution_count": 293,
   "metadata": {
    "collapsed": true
   },
   "outputs": [],
   "source": [
    "xgboosterror=[]\n",
    "xgboostmodels=[]"
   ]
  },
  {
   "cell_type": "code",
   "execution_count": 294,
   "metadata": {},
   "outputs": [
    {
     "data": {
      "text/plain": [
       "0.038501140499114989"
      ]
     },
     "execution_count": 294,
     "metadata": {},
     "output_type": "execute_result"
    }
   ],
   "source": [
    "from sklearn.model_selection import train_test_split  \n",
    "from xgboost.sklearn import XGBRegressor\n",
    "\n",
    "max_depth = 1\n",
    "min_child_weight = 10\n",
    "subsample = 0.5\n",
    "colsample_bytree = 0.6\n",
    "objective = 'reg:linear'\n",
    "num_estimators = 1000\n",
    "learning_rate = 0.1\n",
    "\n",
    "features = train_X\n",
    "target = train_y\n",
    "mdl = XGBRegressor(max_depth=max_depth,\n",
    "                min_child_weight=min_child_weight,\n",
    "                subsample=subsample,\n",
    "                colsample_bytree=colsample_bytree,\n",
    "                objective=objective,\n",
    "                n_estimators=num_estimators,\n",
    "                learning_rate=learning_rate)\n",
    "mdl.fit(features, target)\n",
    "predicted = mdl.predict(train_X)\n",
    "\n",
    "from sklearn.metrics import explained_variance_score\n",
    "from sklearn.metrics import r2_score\n",
    "#r2_score(predicted, y_test)\n",
    "#models.append(\"M1\")\n",
    "#score.append(explained_variance_score(predicted, y_test))\n",
    "\n",
    "explained_variance_score(predicted, train_y)\n",
    "from sklearn.metrics import mean_absolute_error\n",
    "rms = mean_absolute_error(train_y,predicted)\n",
    "xgboosterror.append(rms)\n",
    "rms\n"
   ]
  },
  {
   "cell_type": "code",
   "execution_count": 295,
   "metadata": {},
   "outputs": [
    {
     "data": {
      "text/plain": [
       "0.038224520874023435"
      ]
     },
     "execution_count": 295,
     "metadata": {},
     "output_type": "execute_result"
    }
   ],
   "source": [
    "from sklearn.model_selection import train_test_split  \n",
    "from xgboost.sklearn import XGBRegressor\n",
    "\n",
    "max_depth = 1\n",
    "min_child_weight = 10\n",
    "subsample = 0.5\n",
    "colsample_bytree = 0.6\n",
    "objective = 'reg:linear'\n",
    "num_estimators = 1000\n",
    "learning_rate = 0.1\n",
    "\n",
    "features = train_X\n",
    "target = train_y\n",
    "mdl = XGBRegressor(max_depth=max_depth,\n",
    "                min_child_weight=min_child_weight,\n",
    "                subsample=subsample,\n",
    "                colsample_bytree=colsample_bytree,\n",
    "                objective=objective,\n",
    "                n_estimators=num_estimators,\n",
    "                learning_rate=learning_rate)\n",
    "mdl.fit(features, target)\n",
    "predicted = mdl.predict(test_X)\n",
    "\n",
    "from sklearn.metrics import explained_variance_score\n",
    "from sklearn.metrics import r2_score\n",
    "#r2_score(predicted, y_test)\n",
    "#models.append(\"M1\")\n",
    "#score.append(explained_variance_score(predicted, y_test))\n",
    "\n",
    "explained_variance_score(predicted,test_y)\n",
    "from sklearn.metrics import mean_absolute_error\n",
    "rms = mean_absolute_error(test_y,predicted)\n",
    "xgboostmodels.append(rms)\n",
    "rms"
   ]
  },
  {
   "cell_type": "code",
   "execution_count": 296,
   "metadata": {},
   "outputs": [
    {
     "data": {
      "text/plain": [
       "0.0090646290143330897"
      ]
     },
     "execution_count": 296,
     "metadata": {},
     "output_type": "execute_result"
    }
   ],
   "source": [
    "import xgboost as xg\n",
    "\n",
    "max_depth = 10\n",
    "min_child_weight = 100\n",
    "subsample = 1\n",
    "num_estimators = 1000\n",
    "colsample_bytree = 0.6\n",
    "objective = 'reg:linear'\n",
    "learning_rate = 0.1\n",
    "\n",
    "features = train_X\n",
    "target = train_y\n",
    "mdl = xg.XGBRegressor(max_depth=max_depth,\n",
    "                min_child_weight=min_child_weight,\n",
    "                subsample=subsample,\n",
    "                colsample_bytree=colsample_bytree,\n",
    "                objective=objective,\n",
    "                n_estimators=num_estimators,\n",
    "                learning_rate=learning_rate)\n",
    "mdl.fit(features, target)\n",
    "predicted = mdl.predict(train_X)\n",
    "\n",
    "from sklearn.metrics import explained_variance_score\n",
    "from sklearn.metrics import r2_score\n",
    "#r2_score(predicted, y_test)\n",
    "\n",
    "explained_variance_score(predicted, train_y)\n",
    "from sklearn.metrics import mean_absolute_error\n",
    "rms = mean_absolute_error(train_y,predicted)\n",
    "xgboosterror.append(rms)\n",
    "rms\n",
    "\n"
   ]
  },
  {
   "cell_type": "code",
   "execution_count": 297,
   "metadata": {},
   "outputs": [
    {
     "data": {
      "text/plain": [
       "0.016204028463363648"
      ]
     },
     "execution_count": 297,
     "metadata": {},
     "output_type": "execute_result"
    }
   ],
   "source": [
    "import xgboost as xg\n",
    "\n",
    "\n",
    "\n",
    "\n",
    "max_depth = 10\n",
    "min_child_weight = 100\n",
    "subsample = 1\n",
    "num_estimators = 1000\n",
    "colsample_bytree = 0.6\n",
    "objective = 'reg:linear'\n",
    "learning_rate = 0.1\n",
    "\n",
    "features = train_X\n",
    "target = train_y\n",
    "mdl = xg.XGBRegressor(max_depth=max_depth,\n",
    "                min_child_weight=min_child_weight,\n",
    "                subsample=subsample,\n",
    "                colsample_bytree=colsample_bytree,\n",
    "                objective=objective,\n",
    "                n_estimators=num_estimators,\n",
    "                learning_rate=learning_rate)\n",
    "mdl.fit(features, target)\n",
    "predicted = mdl.predict(test_X)\n",
    "\n",
    "from sklearn.metrics import explained_variance_score\n",
    "from sklearn.metrics import r2_score\n",
    "#r2_score(predicted, y_test)\n",
    "\n",
    "explained_variance_score(predicted, test_y)\n",
    "from sklearn.metrics import mean_absolute_error\n",
    "rms = mean_absolute_error(test_y,predicted)\n",
    "xgboostmodels.append(rms)\n",
    "rms"
   ]
  },
  {
   "cell_type": "code",
   "execution_count": 298,
   "metadata": {},
   "outputs": [
    {
     "data": {
      "text/plain": [
       "0.0063287431399027504"
      ]
     },
     "execution_count": 298,
     "metadata": {},
     "output_type": "execute_result"
    }
   ],
   "source": [
    "from sklearn.model_selection import train_test_split  \n",
    "from xgboost.sklearn import XGBRegressor\n",
    "\n",
    "\n",
    "\n",
    "max_depth = 10 #max tree depth for base learnears\n",
    "min_child_weight = 10 #min sum of instance weight needed in a child\n",
    "subsample = 0.5 #subsample ratio of training instance\n",
    "colsample_bytree = 0.6 #subsample ratio of columns when constructing a tree\n",
    "objective = 'reg:linear'\n",
    "num_estimators = 100 #number of boosted trees to fit\n",
    "learning_rate = 0.3\n",
    "\n",
    "features = train_X\n",
    "target = train_y\n",
    "mdl = xg.XGBRegressor(max_depth=max_depth,\n",
    "                min_child_weight=min_child_weight,\n",
    "                subsample=subsample,\n",
    "                colsample_bytree=colsample_bytree,\n",
    "                objective=objective,\n",
    "                n_estimators=num_estimators,\n",
    "                learning_rate=learning_rate)\n",
    "mdl.fit(features, target)\n",
    "predicted = mdl.predict(train_X)\n",
    "\n",
    "from sklearn.metrics import explained_variance_score\n",
    "from sklearn.metrics import r2_score\n",
    "#r2_score(predicted, y_test)\n",
    "#models.append(\"M3\")\n",
    "#score.append(explained_variance_score(predicted, y_test))\n",
    "explained_variance_score(predicted, train_y)\n",
    "from sklearn.metrics import mean_absolute_error\n",
    "rms = mean_absolute_error(train_y,predicted)\n",
    "xgboosterror.append(rms)\n",
    "rms"
   ]
  },
  {
   "cell_type": "code",
   "execution_count": 299,
   "metadata": {},
   "outputs": [
    {
     "data": {
      "text/plain": [
       "0.044326391458511354"
      ]
     },
     "execution_count": 299,
     "metadata": {},
     "output_type": "execute_result"
    }
   ],
   "source": [
    "import xgboost as xg\n",
    "\n",
    "max_depth = 10\n",
    "min_child_weight = 100\n",
    "subsample = 1\n",
    "num_estimators = 100\n",
    "colsample_bytree = 0.6\n",
    "objective = 'reg:linear'\n",
    "learning_rate = 0.05\n",
    "\n",
    "features = train_X\n",
    "target = train_y\n",
    "mdl = xg.XGBRegressor(max_depth=max_depth,\n",
    "                min_child_weight=min_child_weight,\n",
    "                subsample=subsample,\n",
    "                colsample_bytree=colsample_bytree,\n",
    "                objective=objective,\n",
    "                n_estimators=num_estimators,\n",
    "                learning_rate=learning_rate)\n",
    "mdl.fit(features, target)\n",
    "predicted = mdl.predict(test_X)\n",
    "#models.append(\"M4\")\n",
    "#score.append(explained_variance_score(predicted, y_test))\n",
    "\n",
    "from sklearn.metrics import explained_variance_score\n",
    "from sklearn.metrics import r2_score\n",
    "#r2_score(predicted, y_test)\n",
    "explained_variance_score(predicted, test_y)\n",
    "from sklearn.metrics import mean_absolute_error\n",
    "rms = mean_absolute_error(test_y,predicted)\n",
    "xgboostmodels.append(rms)\n",
    "rms"
   ]
  },
  {
   "cell_type": "code",
   "execution_count": 300,
   "metadata": {},
   "outputs": [
    {
     "data": {
      "text/plain": [
       "[0.038224520874023435, 0.016204028463363648, 0.044326391458511354]"
      ]
     },
     "execution_count": 300,
     "metadata": {},
     "output_type": "execute_result"
    }
   ],
   "source": [
    "xgboostmodels"
   ]
  },
  {
   "cell_type": "code",
   "execution_count": 301,
   "metadata": {},
   "outputs": [
    {
     "data": {
      "text/plain": [
       "[0.038501140499114989, 0.0090646290143330897, 0.0063287431399027504]"
      ]
     },
     "execution_count": 301,
     "metadata": {},
     "output_type": "execute_result"
    }
   ],
   "source": [
    "xgboosterror"
   ]
  },
  {
   "cell_type": "code",
   "execution_count": 302,
   "metadata": {
    "scrolled": true
   },
   "outputs": [
    {
     "data": {
      "text/plain": [
       "<matplotlib.axes._subplots.AxesSubplot at 0x1280ec5198>"
      ]
     },
     "execution_count": 302,
     "metadata": {},
     "output_type": "execute_result"
    },
    {
     "data": {
      "image/png": "[encoded data removed]",
      "text/plain": [
       "<matplotlib.figure.Figure at 0x12804734e0>"
      ]
     },
     "metadata": {},
     "output_type": "display_data"
    }
   ],
   "source": [
    "dataxgboost=pd.DataFrame(index=[1,2,3])\n",
    "dataxgboost['validation error']=xgboostmodels\n",
    "dataxgboost['training error']=xgboosterror\n",
    "#dat.set_index(\"models\")\n",
    "dataxgboost.plot(title=\"Models Pereformance Graph\")"
   ]
  },
  {
   "cell_type": "code",
   "execution_count": 303,
   "metadata": {
    "collapsed": true
   },
   "outputs": [],
   "source": [
    "dataxgboost['difference']=dataxgboost['validation error']-dataxgboost['training error']\n"
   ]
  },
  {
   "cell_type": "code",
   "execution_count": 304,
   "metadata": {},
   "outputs": [
    {
     "data": {
      "text/html": [
       "<div>\n",
       "<style>\n",
       "    .dataframe thead tr:only-child th {\n",
       "        text-align: right;\n",
       "    }\n",
       "\n",
       "    .dataframe thead th {\n",
       "        text-align: left;\n",
       "    }\n",
       "\n",
       "    .dataframe tbody tr th {\n",
       "        vertical-align: top;\n",
       "    }\n",
       "</style>\n",
       "<table border=\"1\" class=\"dataframe\">\n",
       "  <thead>\n",
       "    <tr style=\"text-align: right;\">\n",
       "      <th></th>\n",
       "      <th>validation error</th>\n",
       "      <th>training error</th>\n",
       "      <th>difference</th>\n",
       "    </tr>\n",
       "  </thead>\n",
       "  <tbody>\n",
       "    <tr>\n",
       "      <th>1</th>\n",
       "      <td>0.038225</td>\n",
       "      <td>0.038501</td>\n",
       "      <td>-0.000277</td>\n",
       "    </tr>\n",
       "    <tr>\n",
       "      <th>2</th>\n",
       "      <td>0.016204</td>\n",
       "      <td>0.009065</td>\n",
       "      <td>0.007139</td>\n",
       "    </tr>\n",
       "    <tr>\n",
       "      <th>3</th>\n",
       "      <td>0.044326</td>\n",
       "      <td>0.006329</td>\n",
       "      <td>0.037998</td>\n",
       "    </tr>\n",
       "  </tbody>\n",
       "</table>\n",
       "</div>"
      ],
      "text/plain": [
       "   validation error  training error  difference\n",
       "1          0.038225        0.038501   -0.000277\n",
       "2          0.016204        0.009065    0.007139\n",
       "3          0.044326        0.006329    0.037998"
      ]
     },
     "execution_count": 304,
     "metadata": {},
     "output_type": "execute_result"
    }
   ],
   "source": [
    "dataxgboost"
   ]
  },
  {
   "cell_type": "markdown",
   "metadata": {},
   "source": [
    "#### Analysing the above table which gives us the differnce between tarining and validating error we can conclude that the model with least differnce is the best model. So the 1st model is the  best model for XGBoost"
   ]
  },
  {
   "cell_type": "code",
   "execution_count": null,
   "metadata": {
    "collapsed": true
   },
   "outputs": [],
   "source": []
  },
  {
   "cell_type": "markdown",
   "metadata": {},
   "source": [
    "#### Logistic regression"
   ]
  },
  {
   "cell_type": "code",
   "execution_count": 75,
   "metadata": {},
   "outputs": [
    {
     "name": "stdout",
     "output_type": "stream",
     "text": [
      "Coefficient: \n",
      " [[ -2.29854679e-18  -3.51499521e-18  -4.50115458e-18 ...,  -1.22218706e-22\n",
      "   -3.25657116e-24   1.97897430e-24]\n",
      " [ -9.89529877e-19  -1.47521351e-18  -1.91888883e-18 ...,  -4.34226392e-23\n",
      "    2.11355697e-25   3.73835492e-25]\n",
      " [ -5.41889592e-19  -7.95663921e-19  -1.04786060e-18 ...,  -2.42005465e-23\n",
      "   -1.95056705e-24  -2.92976730e-25]\n",
      " ..., \n",
      " [ -2.26990483e-18  -4.15920304e-18  -4.35643546e-18 ...,  -2.18929534e-22\n",
      "   -2.51823779e-23  -5.08794460e-24]\n",
      " [ -3.86904800e-18  -6.64101381e-18  -7.47792392e-18 ...,  -3.68341504e-22\n",
      "   -3.23931708e-23  -6.18629119e-24]\n",
      " [ -4.32591513e-18  -7.53954024e-18  -8.39458985e-18 ...,  -4.15885579e-22\n",
      "   -3.27423213e-23  -6.18534702e-24]]\n",
      "Intercept: \n",
      " [ -1.23496303e-22  -4.28374480e-23  -2.64440903e-23  -2.84223675e-23\n",
      "  -4.56659454e-23  -8.08379453e-23  -9.46801183e-23  -1.24671343e-22\n",
      "  -1.23962661e-22  -2.49199857e-22  -4.06920966e-22  -4.54813247e-22]\n"
     ]
    }
   ],
   "source": [
    "#Import Library\n",
    "from sklearn.linear_model import LogisticRegression\n",
    "#Assumed you have, X (predictor) and Y (target) for training data set and x_test(predictor) of test_dataset\n",
    "# Create logistic regression object\n",
    "model = LogisticRegression()\n",
    "# Train the model using the training sets and check score\n",
    "model.fit(train_X, train_y)\n",
    "model.score(train_X, train_y)\n",
    "#Equation coefficient and Intercept\n",
    "print('Coefficient: \\n', model.coef_)\n",
    "print('Intercept: \\n', model.intercept_)\n",
    "#Predict Output\n",
    "predicted= model.predict(test_X)"
   ]
  },
  {
   "cell_type": "code",
   "execution_count": 76,
   "metadata": {},
   "outputs": [
    {
     "name": "stdout",
     "output_type": "stream",
     "text": [
      "0.2612\n"
     ]
    }
   ],
   "source": [
    "from sklearn.metrics import accuracy_score\n",
    "print( accuracy_score(predicted, test_y))"
   ]
  },
  {
   "cell_type": "code",
   "execution_count": 77,
   "metadata": {},
   "outputs": [
    {
     "data": {
      "text/plain": [
       "0.0"
      ]
     },
     "execution_count": 77,
     "metadata": {},
     "output_type": "execute_result"
    }
   ],
   "source": [
    "from sklearn.metrics import explained_variance_score\n",
    "explained_variance_score(test_y, predicted)"
   ]
  },
  {
   "cell_type": "code",
   "execution_count": 78,
   "metadata": {},
   "outputs": [
    {
     "data": {
      "text/plain": [
       "3.5099999999999998"
      ]
     },
     "execution_count": 78,
     "metadata": {},
     "output_type": "execute_result"
    }
   ],
   "source": [
    "from sklearn.metrics import mean_squared_error\n",
    "mean_squared_error(test_y, predicted) "
   ]
  },
  {
   "cell_type": "markdown",
   "metadata": {},
   "source": [
    "### Predicting COST BURDEN"
   ]
  },
  {
   "cell_type": "code",
   "execution_count": 306,
   "metadata": {},
   "outputs": [],
   "source": [
    "from sklearn.cross_validation  import train_test_split\n",
    "train_X,test_X,train_y,test_y = train_test_split(train_data,train_data.BURDEN,test_size=0.25,random_state=42)"
   ]
  },
  {
   "cell_type": "markdown",
   "metadata": {},
   "source": [
    "### Decision tree"
   ]
  },
  {
   "cell_type": "code",
   "execution_count": 308,
   "metadata": {
    "collapsed": true
   },
   "outputs": [],
   "source": [
    "train_model1=[]\n",
    "test_model1=[]"
   ]
  },
  {
   "cell_type": "code",
   "execution_count": 309,
   "metadata": {
    "collapsed": true
   },
   "outputs": [],
   "source": [
    "from sklearn.tree import DecisionTreeClassifier\n",
    "clf = DecisionTreeClassifier()\n",
    "clf.fit(train_X,train_y)\n",
    "\n",
    "prediction = clf.predict(test_X)\n",
    "## Computing accuracy\n",
    "from sklearn.metrics import accuracy_score\n",
    "train_model1.append(accuracy_score(prediction, test_y))"
   ]
  },
  {
   "cell_type": "code",
   "execution_count": 310,
   "metadata": {
    "collapsed": true
   },
   "outputs": [],
   "source": [
    "from sklearn.tree import DecisionTreeClassifier\n",
    "clf = DecisionTreeClassifier()\n",
    "clf.fit(test_X,test_y)\n",
    "prediction = clf.predict(test_X)\n",
    "\n",
    "## Computing accuracy\n",
    "from sklearn.metrics import accuracy_score\n",
    "test_model1.append(accuracy_score(prediction, test_y))"
   ]
  },
  {
   "cell_type": "code",
   "execution_count": 311,
   "metadata": {
    "collapsed": true
   },
   "outputs": [],
   "source": [
    "#test\n",
    "from sklearn import tree\n",
    "clf = tree.DecisionTreeClassifier(criterion='entropy', splitter='best',presort=True)\n",
    "clf.fit(train_X, train_y)\n",
    "prediction = clf.predict(test_X)\n",
    "## Computing accuracy\n",
    "from sklearn.metrics import accuracy_score\n",
    "test_model1.append(accuracy_score(prediction, test_y))\n"
   ]
  },
  {
   "cell_type": "code",
   "execution_count": 312,
   "metadata": {
    "collapsed": true
   },
   "outputs": [],
   "source": [
    "#m2-test\n",
    "from sklearn import tree\n",
    "arr=[4,6,8,10]\n",
    "for i in arr:\n",
    "    clf = tree.DecisionTreeClassifier(criterion='entropy', splitter='random',min_samples_split=i)\n",
    "    clf.fit(train_X, train_y)\n",
    "    prediction = clf.predict(test_X)\n",
    "    ## Computing accuracy\n",
    "    from sklearn.metrics import accuracy_score\n",
    "    test_model1.append(accuracy_score(prediction, test_y))"
   ]
  },
  {
   "cell_type": "code",
   "execution_count": 313,
   "metadata": {
    "collapsed": true
   },
   "outputs": [],
   "source": [
    "#m1-train\n",
    "from sklearn import tree\n",
    "clf = tree.DecisionTreeClassifier(criterion='entropy', splitter='best',presort=True)\n",
    "clf.fit(train_X, train_y)\n",
    "prediction = clf.predict(train_X)\n",
    "## Computing accuracy\n",
    "from sklearn.metrics import accuracy_score\n",
    "train_model1.append(accuracy_score(prediction, train_y))"
   ]
  },
  {
   "cell_type": "code",
   "execution_count": 314,
   "metadata": {
    "collapsed": true
   },
   "outputs": [],
   "source": [
    "#m2-train\n",
    "from sklearn import tree\n",
    "arr=[4,6,8,10]\n",
    "for i in arr:\n",
    "    clf = tree.DecisionTreeClassifier(criterion='entropy', splitter='random',min_samples_split=i)\n",
    "    clf.fit(train_X, train_y)\n",
    "    prediction = clf.predict(train_X)\n",
    "    ## Computing accuracy\n",
    "    from sklearn.metrics import accuracy_score\n",
    "    train_model1.append(accuracy_score(prediction, train_y))"
   ]
  },
  {
   "cell_type": "code",
   "execution_count": 315,
   "metadata": {},
   "outputs": [
    {
     "data": {
      "text/plain": [
       "[0.99960000000000004, 1.0, 1.0, 1.0, 1.0, 1.0]"
      ]
     },
     "execution_count": 315,
     "metadata": {},
     "output_type": "execute_result"
    }
   ],
   "source": [
    "train_model1"
   ]
  },
  {
   "cell_type": "code",
   "execution_count": 316,
   "metadata": {},
   "outputs": [
    {
     "data": {
      "text/plain": [
       "[1.0,\n",
       " 0.99960000000000004,\n",
       " 0.99960000000000004,\n",
       " 0.99960000000000004,\n",
       " 0.99960000000000004,\n",
       " 0.99960000000000004]"
      ]
     },
     "execution_count": 316,
     "metadata": {},
     "output_type": "execute_result"
    }
   ],
   "source": [
    "test_model1"
   ]
  },
  {
   "cell_type": "code",
   "execution_count": 319,
   "metadata": {},
   "outputs": [
    {
     "data": {
      "text/plain": [
       "<matplotlib.axes._subplots.AxesSubplot at 0x1280a53208>"
      ]
     },
     "execution_count": 319,
     "metadata": {},
     "output_type": "execute_result"
    },
    {
     "data": {
      "image/png": "[encoded data removed]",
      "text/plain": [
       "<matplotlib.figure.Figure at 0x1280e6e668>"
      ]
     },
     "metadata": {},
     "output_type": "display_data"
    }
   ],
   "source": [
    "dat1=pd.DataFrame(index=[1,2,3,4,5,6])\n",
    "dat1['validation error']=test_model1\n",
    "dat1['training error']=train_model1\n",
    "#dat.set_index(\"models\")\n",
    "dat1.plot(title=\"Models Pereformance Graph\")"
   ]
  },
  {
   "cell_type": "code",
   "execution_count": 321,
   "metadata": {
    "collapsed": true
   },
   "outputs": [],
   "source": [
    "dat1['difference']=dat1['training error']-dat1['validation error']"
   ]
  },
  {
   "cell_type": "code",
   "execution_count": 322,
   "metadata": {},
   "outputs": [
    {
     "data": {
      "text/html": [
       "<div>\n",
       "<style>\n",
       "    .dataframe thead tr:only-child th {\n",
       "        text-align: right;\n",
       "    }\n",
       "\n",
       "    .dataframe thead th {\n",
       "        text-align: left;\n",
       "    }\n",
       "\n",
       "    .dataframe tbody tr th {\n",
       "        vertical-align: top;\n",
       "    }\n",
       "</style>\n",
       "<table border=\"1\" class=\"dataframe\">\n",
       "  <thead>\n",
       "    <tr style=\"text-align: right;\">\n",
       "      <th></th>\n",
       "      <th>validation error</th>\n",
       "      <th>training error</th>\n",
       "      <th>difference</th>\n",
       "    </tr>\n",
       "  </thead>\n",
       "  <tbody>\n",
       "    <tr>\n",
       "      <th>1</th>\n",
       "      <td>1.0000</td>\n",
       "      <td>0.9996</td>\n",
       "      <td>-0.0004</td>\n",
       "    </tr>\n",
       "    <tr>\n",
       "      <th>2</th>\n",
       "      <td>0.9996</td>\n",
       "      <td>1.0000</td>\n",
       "      <td>0.0004</td>\n",
       "    </tr>\n",
       "    <tr>\n",
       "      <th>3</th>\n",
       "      <td>0.9996</td>\n",
       "      <td>1.0000</td>\n",
       "      <td>0.0004</td>\n",
       "    </tr>\n",
       "    <tr>\n",
       "      <th>4</th>\n",
       "      <td>0.9996</td>\n",
       "      <td>1.0000</td>\n",
       "      <td>0.0004</td>\n",
       "    </tr>\n",
       "    <tr>\n",
       "      <th>5</th>\n",
       "      <td>0.9996</td>\n",
       "      <td>1.0000</td>\n",
       "      <td>0.0004</td>\n",
       "    </tr>\n",
       "    <tr>\n",
       "      <th>6</th>\n",
       "      <td>0.9996</td>\n",
       "      <td>1.0000</td>\n",
       "      <td>0.0004</td>\n",
       "    </tr>\n",
       "  </tbody>\n",
       "</table>\n",
       "</div>"
      ],
      "text/plain": [
       "   validation error  training error  difference\n",
       "1            1.0000          0.9996     -0.0004\n",
       "2            0.9996          1.0000      0.0004\n",
       "3            0.9996          1.0000      0.0004\n",
       "4            0.9996          1.0000      0.0004\n",
       "5            0.9996          1.0000      0.0004\n",
       "6            0.9996          1.0000      0.0004"
      ]
     },
     "execution_count": 322,
     "metadata": {},
     "output_type": "execute_result"
    }
   ],
   "source": [
    "dat1"
   ]
  },
  {
   "cell_type": "markdown",
   "metadata": {},
   "source": [
    "### Regression"
   ]
  },
  {
   "cell_type": "code",
   "execution_count": 323,
   "metadata": {
    "collapsed": true
   },
   "outputs": [],
   "source": [
    "train_reg1=[]\n",
    "test_reg1=[]"
   ]
  },
  {
   "cell_type": "code",
   "execution_count": 324,
   "metadata": {},
   "outputs": [
    {
     "data": {
      "text/plain": [
       "0.99999999999999978"
      ]
     },
     "execution_count": 324,
     "metadata": {},
     "output_type": "execute_result"
    }
   ],
   "source": [
    "from sklearn import linear_model\n",
    "reg = linear_model.LinearRegression()\n",
    "reg.fit (train_X,train_y)\n",
    "\n",
    "predicted1 = reg.predict(test_X)\n",
    "\n",
    "from sklearn.metrics import explained_variance_score\n",
    "\n",
    "#models.append(\"LinearRegression\")\n",
    "train_reg1.append(explained_variance_score(test_y,predicted1) )\n",
    "\n",
    "explained_variance_score(test_y,predicted1)"
   ]
  },
  {
   "cell_type": "code",
   "execution_count": 325,
   "metadata": {},
   "outputs": [
    {
     "data": {
      "text/plain": [
       "0.9999999999999738"
      ]
     },
     "execution_count": 325,
     "metadata": {},
     "output_type": "execute_result"
    }
   ],
   "source": [
    "from sklearn import linear_model\n",
    "reg = linear_model.LinearRegression()\n",
    "reg.fit (test_X,test_y)\n",
    "\n",
    "predicted1 = reg.predict(test_X)\n",
    "\n",
    "from sklearn.metrics import explained_variance_score\n",
    "\n",
    "#models.append(\"LinearRegression\")\n",
    "test_reg1.append(explained_variance_score(test_y,predicted1) )\n",
    "\n",
    "explained_variance_score(test_y,predicted1)"
   ]
  },
  {
   "cell_type": "code",
   "execution_count": 326,
   "metadata": {},
   "outputs": [
    {
     "data": {
      "text/plain": [
       "0.99899084076587685"
      ]
     },
     "execution_count": 326,
     "metadata": {},
     "output_type": "execute_result"
    }
   ],
   "source": [
    "from sklearn import linear_model\n",
    "reg1 = linear_model.Ridge (alpha = .5)\n",
    "reg1.fit (train_X,train_y)\n",
    "\n",
    "predicted3 = reg1.predict(test_X)\n",
    "\n",
    "from sklearn.metrics import explained_variance_score\n",
    "\n",
    "#models.append(\"Ridge Linear Regression\")\n",
    "train_reg1.append(explained_variance_score(test_y,predicted3) )\n",
    "explained_variance_score(test_y,predicted3)"
   ]
  },
  {
   "cell_type": "code",
   "execution_count": 327,
   "metadata": {},
   "outputs": [
    {
     "data": {
      "text/plain": [
       "0.8872407565424808"
      ]
     },
     "execution_count": 327,
     "metadata": {},
     "output_type": "execute_result"
    }
   ],
   "source": [
    "from sklearn import linear_model\n",
    "reg1 = linear_model.Ridge (alpha = .5)\n",
    "reg1.fit (test_X,test_y)\n",
    "\n",
    "predicted4 = reg1.predict(test_X)\n",
    "\n",
    "from sklearn.metrics import explained_variance_score\n",
    "\n",
    "#models.append(\"Ridge Linear Regression\")\n",
    "test_reg1.append(explained_variance_score(test_y,predicted4) )\n",
    "explained_variance_score(test_y,predicted4)"
   ]
  },
  {
   "cell_type": "code",
   "execution_count": 328,
   "metadata": {},
   "outputs": [
    {
     "data": {
      "text/plain": [
       "[0.99999999999999978, 0.99899084076587685]"
      ]
     },
     "execution_count": 328,
     "metadata": {},
     "output_type": "execute_result"
    }
   ],
   "source": [
    "train_reg1"
   ]
  },
  {
   "cell_type": "code",
   "execution_count": 329,
   "metadata": {},
   "outputs": [
    {
     "data": {
      "text/plain": [
       "[0.9999999999999738, 0.8872407565424808]"
      ]
     },
     "execution_count": 329,
     "metadata": {},
     "output_type": "execute_result"
    }
   ],
   "source": [
    "test_reg1"
   ]
  },
  {
   "cell_type": "code",
   "execution_count": 331,
   "metadata": {},
   "outputs": [
    {
     "data": {
      "text/plain": [
       "<matplotlib.axes._subplots.AxesSubplot at 0x128004dda0>"
      ]
     },
     "execution_count": 331,
     "metadata": {},
     "output_type": "execute_result"
    },
    {
     "data": {
      "image/png": "[encoded data removed]",
      "text/plain": [
       "<matplotlib.figure.Figure at 0x12821c4438>"
      ]
     },
     "metadata": {},
     "output_type": "display_data"
    }
   ],
   "source": [
    "dat3=pd.DataFrame(index=[1,2])\n",
    "dat3['validation error']=test_reg1\n",
    "dat3['training error']=train_reg1\n",
    "#dat.set_index(\"models\")\n",
    "dat3.plot(title=\"Models Pereformance Graph\")"
   ]
  },
  {
   "cell_type": "code",
   "execution_count": 332,
   "metadata": {
    "collapsed": true
   },
   "outputs": [],
   "source": [
    "dat3['difference']=dat3['training error']-dat3['validation error']"
   ]
  },
  {
   "cell_type": "code",
   "execution_count": 333,
   "metadata": {},
   "outputs": [
    {
     "data": {
      "text/html": [
       "<div>\n",
       "<style>\n",
       "    .dataframe thead tr:only-child th {\n",
       "        text-align: right;\n",
       "    }\n",
       "\n",
       "    .dataframe thead th {\n",
       "        text-align: left;\n",
       "    }\n",
       "\n",
       "    .dataframe tbody tr th {\n",
       "        vertical-align: top;\n",
       "    }\n",
       "</style>\n",
       "<table border=\"1\" class=\"dataframe\">\n",
       "  <thead>\n",
       "    <tr style=\"text-align: right;\">\n",
       "      <th></th>\n",
       "      <th>validation error</th>\n",
       "      <th>training error</th>\n",
       "      <th>difference</th>\n",
       "    </tr>\n",
       "  </thead>\n",
       "  <tbody>\n",
       "    <tr>\n",
       "      <th>1</th>\n",
       "      <td>1.000000</td>\n",
       "      <td>1.000000</td>\n",
       "      <td>2.597922e-14</td>\n",
       "    </tr>\n",
       "    <tr>\n",
       "      <th>2</th>\n",
       "      <td>0.887241</td>\n",
       "      <td>0.998991</td>\n",
       "      <td>1.117501e-01</td>\n",
       "    </tr>\n",
       "  </tbody>\n",
       "</table>\n",
       "</div>"
      ],
      "text/plain": [
       "   validation error  training error    difference\n",
       "1          1.000000        1.000000  2.597922e-14\n",
       "2          0.887241        0.998991  1.117501e-01"
      ]
     },
     "execution_count": 333,
     "metadata": {},
     "output_type": "execute_result"
    }
   ],
   "source": [
    "dat3"
   ]
  },
  {
   "cell_type": "markdown",
   "metadata": {},
   "source": [
    "#### Analysing the above table which gives us the differnce between tarining and validating error we can conclude that the model with least differnce is the best model. So the 2nd model is the  best model in regression analysis of our data set.   "
   ]
  },
  {
   "cell_type": "markdown",
   "metadata": {},
   "source": [
    "### Xgboost"
   ]
  },
  {
   "cell_type": "code",
   "execution_count": 334,
   "metadata": {
    "collapsed": true
   },
   "outputs": [],
   "source": [
    "xgboost_error=[]\n",
    "xgboost_models=[]"
   ]
  },
  {
   "cell_type": "code",
   "execution_count": 335,
   "metadata": {},
   "outputs": [
    {
     "data": {
      "text/plain": [
       "0.0030491346677144369"
      ]
     },
     "execution_count": 335,
     "metadata": {},
     "output_type": "execute_result"
    }
   ],
   "source": [
    "from sklearn.model_selection import train_test_split  \n",
    "from xgboost.sklearn import XGBRegressor\n",
    "\n",
    "max_depth = 1\n",
    "min_child_weight = 10\n",
    "subsample = 0.5\n",
    "colsample_bytree = 0.6\n",
    "objective = 'reg:linear'\n",
    "num_estimators = 1000\n",
    "learning_rate = 0.1\n",
    "\n",
    "features = train_X\n",
    "target = train_y\n",
    "mdl = XGBRegressor(max_depth=max_depth,\n",
    "                min_child_weight=min_child_weight,\n",
    "                subsample=subsample,\n",
    "                colsample_bytree=colsample_bytree,\n",
    "                objective=objective,\n",
    "                n_estimators=num_estimators,\n",
    "                learning_rate=learning_rate)\n",
    "mdl.fit(features, target)\n",
    "predicted = mdl.predict(train_X)\n",
    "\n",
    "from sklearn.metrics import explained_variance_score\n",
    "from sklearn.metrics import r2_score\n",
    "#r2_score(predicted, y_test)\n",
    "#models.append(\"M1\")\n",
    "#score.append(explained_variance_score(predicted, y_test))\n",
    "\n",
    "explained_variance_score(predicted, train_y)\n",
    "from sklearn.metrics import mean_absolute_error\n",
    "rms = mean_absolute_error(train_y,predicted)\n",
    "xgboost_error.append(rms)\n",
    "rms\n"
   ]
  },
  {
   "cell_type": "code",
   "execution_count": 336,
   "metadata": {},
   "outputs": [
    {
     "data": {
      "text/plain": [
       "0.0029033644914627076"
      ]
     },
     "execution_count": 336,
     "metadata": {},
     "output_type": "execute_result"
    }
   ],
   "source": [
    "from sklearn.model_selection import train_test_split  \n",
    "from xgboost.sklearn import XGBRegressor\n",
    "\n",
    "max_depth = 1\n",
    "min_child_weight = 10\n",
    "subsample = 0.5\n",
    "colsample_bytree = 0.6\n",
    "objective = 'reg:linear'\n",
    "num_estimators = 1000\n",
    "learning_rate = 0.1\n",
    "\n",
    "features = train_X\n",
    "target = train_y\n",
    "mdl = XGBRegressor(max_depth=max_depth,\n",
    "                min_child_weight=min_child_weight,\n",
    "                subsample=subsample,\n",
    "                colsample_bytree=colsample_bytree,\n",
    "                objective=objective,\n",
    "                n_estimators=num_estimators,\n",
    "                learning_rate=learning_rate)\n",
    "mdl.fit(features, target)\n",
    "predicted = mdl.predict(test_X)\n",
    "\n",
    "from sklearn.metrics import explained_variance_score\n",
    "from sklearn.metrics import r2_score\n",
    "#r2_score(predicted, y_test)\n",
    "#models.append(\"M1\")\n",
    "#score.append(explained_variance_score(predicted, y_test))\n",
    "\n",
    "explained_variance_score(predicted,test_y)\n",
    "from sklearn.metrics import mean_absolute_error\n",
    "rms = mean_absolute_error(test_y,predicted)\n",
    "xgboost_models.append(rms)\n",
    "rms"
   ]
  },
  {
   "cell_type": "code",
   "execution_count": 337,
   "metadata": {},
   "outputs": [
    {
     "data": {
      "text/plain": [
       "0.0020032751441001894"
      ]
     },
     "execution_count": 337,
     "metadata": {},
     "output_type": "execute_result"
    }
   ],
   "source": [
    "import xgboost as xg\n",
    "\n",
    "max_depth = 10\n",
    "min_child_weight = 100\n",
    "subsample = 1\n",
    "num_estimators = 1000\n",
    "colsample_bytree = 0.6\n",
    "objective = 'reg:linear'\n",
    "learning_rate = 0.1\n",
    "\n",
    "features = train_X\n",
    "target = train_y\n",
    "mdl = xg.XGBRegressor(max_depth=max_depth,\n",
    "                min_child_weight=min_child_weight,\n",
    "                subsample=subsample,\n",
    "                colsample_bytree=colsample_bytree,\n",
    "                objective=objective,\n",
    "                n_estimators=num_estimators,\n",
    "                learning_rate=learning_rate)\n",
    "mdl.fit(features, target)\n",
    "predicted = mdl.predict(train_X)\n",
    "\n",
    "from sklearn.metrics import explained_variance_score\n",
    "from sklearn.metrics import r2_score\n",
    "#r2_score(predicted, y_test)\n",
    "\n",
    "explained_variance_score(predicted, train_y)\n",
    "from sklearn.metrics import mean_absolute_error\n",
    "rms = mean_absolute_error(train_y,predicted)\n",
    "xgboost_error.append(rms)\n",
    "rms\n",
    "\n"
   ]
  },
  {
   "cell_type": "code",
   "execution_count": 338,
   "metadata": {},
   "outputs": [
    {
     "data": {
      "text/plain": [
       "0.0034333066344261168"
      ]
     },
     "execution_count": 338,
     "metadata": {},
     "output_type": "execute_result"
    }
   ],
   "source": [
    "import xgboost as xg\n",
    "\n",
    "\n",
    "\n",
    "\n",
    "max_depth = 10\n",
    "min_child_weight = 100\n",
    "subsample = 1\n",
    "num_estimators = 1000\n",
    "colsample_bytree = 0.6\n",
    "objective = 'reg:linear'\n",
    "learning_rate = 0.1\n",
    "\n",
    "features = train_X\n",
    "target = train_y\n",
    "mdl = xg.XGBRegressor(max_depth=max_depth,\n",
    "                min_child_weight=min_child_weight,\n",
    "                subsample=subsample,\n",
    "                colsample_bytree=colsample_bytree,\n",
    "                objective=objective,\n",
    "                n_estimators=num_estimators,\n",
    "                learning_rate=learning_rate)\n",
    "mdl.fit(features, target)\n",
    "predicted = mdl.predict(test_X)\n",
    "\n",
    "from sklearn.metrics import explained_variance_score\n",
    "from sklearn.metrics import r2_score\n",
    "#r2_score(predicted, y_test)\n",
    "\n",
    "explained_variance_score(predicted, test_y)\n",
    "from sklearn.metrics import mean_absolute_error\n",
    "rms = mean_absolute_error(test_y,predicted)\n",
    "xgboost_models.append(rms)\n",
    "rms"
   ]
  },
  {
   "cell_type": "code",
   "execution_count": 339,
   "metadata": {},
   "outputs": [
    {
     "data": {
      "text/plain": [
       "0.0017779191374778748"
      ]
     },
     "execution_count": 339,
     "metadata": {},
     "output_type": "execute_result"
    }
   ],
   "source": [
    "from sklearn.model_selection import train_test_split  \n",
    "from xgboost.sklearn import XGBRegressor\n",
    "\n",
    "\n",
    "\n",
    "max_depth = 10 #max tree depth for base learnears\n",
    "min_child_weight = 10 #min sum of instance weight needed in a child\n",
    "subsample = 0.5 #subsample ratio of training instance\n",
    "colsample_bytree = 0.6 #subsample ratio of columns when constructing a tree\n",
    "objective = 'reg:linear'\n",
    "num_estimators = 100 #number of boosted trees to fit\n",
    "learning_rate = 0.3\n",
    "\n",
    "features = train_X\n",
    "target = train_y\n",
    "mdl = xg.XGBRegressor(max_depth=max_depth,\n",
    "                min_child_weight=min_child_weight,\n",
    "                subsample=subsample,\n",
    "                colsample_bytree=colsample_bytree,\n",
    "                objective=objective,\n",
    "                n_estimators=num_estimators,\n",
    "                learning_rate=learning_rate)\n",
    "mdl.fit(features, target)\n",
    "predicted = mdl.predict(train_X)\n",
    "\n",
    "from sklearn.metrics import explained_variance_score\n",
    "from sklearn.metrics import r2_score\n",
    "#r2_score(predicted, y_test)\n",
    "#models.append(\"M3\")\n",
    "#score.append(explained_variance_score(predicted, y_test))\n",
    "explained_variance_score(predicted, train_y)\n",
    "from sklearn.metrics import mean_absolute_error\n",
    "rms = mean_absolute_error(train_y,predicted)\n",
    "xgboost_error.append(rms)\n",
    "rms"
   ]
  },
  {
   "cell_type": "code",
   "execution_count": 340,
   "metadata": {},
   "outputs": [
    {
     "data": {
      "text/plain": [
       "0.0040550347924232484"
      ]
     },
     "execution_count": 340,
     "metadata": {},
     "output_type": "execute_result"
    }
   ],
   "source": [
    "import xgboost as xg\n",
    "\n",
    "max_depth = 10\n",
    "min_child_weight = 100\n",
    "subsample = 1\n",
    "num_estimators = 100\n",
    "colsample_bytree = 0.6\n",
    "objective = 'reg:linear'\n",
    "learning_rate = 0.05\n",
    "\n",
    "features = train_X\n",
    "target = train_y\n",
    "mdl = xg.XGBRegressor(max_depth=max_depth,\n",
    "                min_child_weight=min_child_weight,\n",
    "                subsample=subsample,\n",
    "                colsample_bytree=colsample_bytree,\n",
    "                objective=objective,\n",
    "                n_estimators=num_estimators,\n",
    "                learning_rate=learning_rate)\n",
    "mdl.fit(features, target)\n",
    "predicted = mdl.predict(test_X)\n",
    "#models.append(\"M4\")\n",
    "#score.append(explained_variance_score(predicted, y_test))\n",
    "\n",
    "from sklearn.metrics import explained_variance_score\n",
    "from sklearn.metrics import r2_score\n",
    "#r2_score(predicted, y_test)\n",
    "explained_variance_score(predicted, test_y)\n",
    "from sklearn.metrics import mean_absolute_error\n",
    "rms = mean_absolute_error(test_y,predicted)\n",
    "xgboost_models.append(rms)\n",
    "rms"
   ]
  },
  {
   "cell_type": "code",
   "execution_count": 341,
   "metadata": {},
   "outputs": [
    {
     "data": {
      "text/plain": [
       "[0.0029033644914627076, 0.0034333066344261168, 0.0040550347924232484]"
      ]
     },
     "execution_count": 341,
     "metadata": {},
     "output_type": "execute_result"
    }
   ],
   "source": [
    "xgboost_models"
   ]
  },
  {
   "cell_type": "code",
   "execution_count": 342,
   "metadata": {},
   "outputs": [
    {
     "data": {
      "text/plain": [
       "[0.0030491346677144369, 0.0020032751441001894, 0.0017779191374778748]"
      ]
     },
     "execution_count": 342,
     "metadata": {},
     "output_type": "execute_result"
    }
   ],
   "source": [
    "xgboost_error"
   ]
  },
  {
   "cell_type": "code",
   "execution_count": 343,
   "metadata": {},
   "outputs": [
    {
     "data": {
      "text/plain": [
       "<matplotlib.axes._subplots.AxesSubplot at 0x1280a10160>"
      ]
     },
     "execution_count": 343,
     "metadata": {},
     "output_type": "execute_result"
    },
    {
     "data": {
      "image/png": "[encoded data removed]",
      "text/plain": [
       "<matplotlib.figure.Figure at 0x1280a41cc0>"
      ]
     },
     "metadata": {},
     "output_type": "display_data"
    }
   ],
   "source": [
    "dataxgboost1=pd.DataFrame(index=[1,2,3])\n",
    "dataxgboost1['validation error']=xgboost_models\n",
    "dataxgboost1['training error']=xgboost_error\n",
    "#dat.set_index(\"models\")\n",
    "dataxgboost1.plot(title=\"Models Pereformance Graph\")"
   ]
  },
  {
   "cell_type": "code",
   "execution_count": 344,
   "metadata": {
    "collapsed": true
   },
   "outputs": [],
   "source": [
    "dataxgboost1['difference']=dataxgboost1['validation error']-dataxgboost1['training error']\n"
   ]
  },
  {
   "cell_type": "code",
   "execution_count": 345,
   "metadata": {},
   "outputs": [
    {
     "data": {
      "text/html": [
       "<div>\n",
       "<style>\n",
       "    .dataframe thead tr:only-child th {\n",
       "        text-align: right;\n",
       "    }\n",
       "\n",
       "    .dataframe thead th {\n",
       "        text-align: left;\n",
       "    }\n",
       "\n",
       "    .dataframe tbody tr th {\n",
       "        vertical-align: top;\n",
       "    }\n",
       "</style>\n",
       "<table border=\"1\" class=\"dataframe\">\n",
       "  <thead>\n",
       "    <tr style=\"text-align: right;\">\n",
       "      <th></th>\n",
       "      <th>validation error</th>\n",
       "      <th>training error</th>\n",
       "      <th>difference</th>\n",
       "    </tr>\n",
       "  </thead>\n",
       "  <tbody>\n",
       "    <tr>\n",
       "      <th>1</th>\n",
       "      <td>0.002903</td>\n",
       "      <td>0.003049</td>\n",
       "      <td>-0.000146</td>\n",
       "    </tr>\n",
       "    <tr>\n",
       "      <th>2</th>\n",
       "      <td>0.003433</td>\n",
       "      <td>0.002003</td>\n",
       "      <td>0.001430</td>\n",
       "    </tr>\n",
       "    <tr>\n",
       "      <th>3</th>\n",
       "      <td>0.004055</td>\n",
       "      <td>0.001778</td>\n",
       "      <td>0.002277</td>\n",
       "    </tr>\n",
       "  </tbody>\n",
       "</table>\n",
       "</div>"
      ],
      "text/plain": [
       "   validation error  training error  difference\n",
       "1          0.002903        0.003049   -0.000146\n",
       "2          0.003433        0.002003    0.001430\n",
       "3          0.004055        0.001778    0.002277"
      ]
     },
     "execution_count": 345,
     "metadata": {},
     "output_type": "execute_result"
    }
   ],
   "source": [
    "dataxgboost1"
   ]
  },
  {
   "cell_type": "markdown",
   "metadata": {},
   "source": [
    "#### Analysing the above table which gives us the differnce between tarining and validating error we can conclude that the model with least differnce is the best model. So the 1st model is the  best model for XGBoost"
   ]
  },
  {
   "cell_type": "markdown",
   "metadata": {},
   "source": [
    "#### Random forest"
   ]
  },
  {
   "cell_type": "code",
   "execution_count": null,
   "metadata": {
    "collapsed": true
   },
   "outputs": [],
   "source": []
  },
  {
   "cell_type": "code",
   "execution_count": 114,
   "metadata": {},
   "outputs": [
    {
     "ename": "ValueError",
     "evalue": "could not convert string to float: '1 Adequate'",
     "output_type": "error",
     "traceback": [
      "\u001b[1;31m---------------------------------------------------------------------------\u001b[0m",
      "\u001b[1;31mValueError\u001b[0m                                Traceback (most recent call last)",
      "\u001b[1;32m<ipython-input-114-126ba16129a4>\u001b[0m in \u001b[0;36m<module>\u001b[1;34m()\u001b[0m\n\u001b[0;32m      9\u001b[0m \u001b[0mmodel\u001b[0m\u001b[1;33m=\u001b[0m \u001b[0mRandomForestRegressor\u001b[0m\u001b[1;33m(\u001b[0m\u001b[1;33m)\u001b[0m\u001b[1;33m\u001b[0m\u001b[0m\n\u001b[0;32m     10\u001b[0m \u001b[1;31m# Train the model using the training sets and check score\u001b[0m\u001b[1;33m\u001b[0m\u001b[1;33m\u001b[0m\u001b[0m\n\u001b[1;32m---> 11\u001b[1;33m \u001b[0mmodel\u001b[0m\u001b[1;33m.\u001b[0m\u001b[0mfit\u001b[0m\u001b[1;33m(\u001b[0m\u001b[0mX_train_1\u001b[0m\u001b[1;33m,\u001b[0m \u001b[0mY_train_1\u001b[0m\u001b[1;33m)\u001b[0m\u001b[1;33m\u001b[0m\u001b[0m\n\u001b[0m\u001b[0;32m     12\u001b[0m \u001b[1;31m#Predict Output\u001b[0m\u001b[1;33m\u001b[0m\u001b[1;33m\u001b[0m\u001b[0m\n\u001b[0;32m     13\u001b[0m \u001b[0mprediction\u001b[0m\u001b[1;33m=\u001b[0m \u001b[0mmodel\u001b[0m\u001b[1;33m.\u001b[0m\u001b[0mpredict\u001b[0m\u001b[1;33m(\u001b[0m\u001b[0mX_test_1\u001b[0m\u001b[1;33m)\u001b[0m\u001b[1;33m\u001b[0m\u001b[0m\n",
      "\u001b[1;32mC:\\ProgramData\\Anaconda3\\lib\\site-packages\\sklearn\\ensemble\\forest.py\u001b[0m in \u001b[0;36mfit\u001b[1;34m(self, X, y, sample_weight)\u001b[0m\n\u001b[0;32m    245\u001b[0m         \"\"\"\n\u001b[0;32m    246\u001b[0m         \u001b[1;31m# Validate or convert input data\u001b[0m\u001b[1;33m\u001b[0m\u001b[1;33m\u001b[0m\u001b[0m\n\u001b[1;32m--> 247\u001b[1;33m         \u001b[0mX\u001b[0m \u001b[1;33m=\u001b[0m \u001b[0mcheck_array\u001b[0m\u001b[1;33m(\u001b[0m\u001b[0mX\u001b[0m\u001b[1;33m,\u001b[0m \u001b[0maccept_sparse\u001b[0m\u001b[1;33m=\u001b[0m\u001b[1;34m\"csc\"\u001b[0m\u001b[1;33m,\u001b[0m \u001b[0mdtype\u001b[0m\u001b[1;33m=\u001b[0m\u001b[0mDTYPE\u001b[0m\u001b[1;33m)\u001b[0m\u001b[1;33m\u001b[0m\u001b[0m\n\u001b[0m\u001b[0;32m    248\u001b[0m         \u001b[0my\u001b[0m \u001b[1;33m=\u001b[0m \u001b[0mcheck_array\u001b[0m\u001b[1;33m(\u001b[0m\u001b[0my\u001b[0m\u001b[1;33m,\u001b[0m \u001b[0maccept_sparse\u001b[0m\u001b[1;33m=\u001b[0m\u001b[1;34m'csc'\u001b[0m\u001b[1;33m,\u001b[0m \u001b[0mensure_2d\u001b[0m\u001b[1;33m=\u001b[0m\u001b[1;32mFalse\u001b[0m\u001b[1;33m,\u001b[0m \u001b[0mdtype\u001b[0m\u001b[1;33m=\u001b[0m\u001b[1;32mNone\u001b[0m\u001b[1;33m)\u001b[0m\u001b[1;33m\u001b[0m\u001b[0m\n\u001b[0;32m    249\u001b[0m         \u001b[1;32mif\u001b[0m \u001b[0missparse\u001b[0m\u001b[1;33m(\u001b[0m\u001b[0mX\u001b[0m\u001b[1;33m)\u001b[0m\u001b[1;33m:\u001b[0m\u001b[1;33m\u001b[0m\u001b[0m\n",
      "\u001b[1;32mC:\\ProgramData\\Anaconda3\\lib\\site-packages\\sklearn\\utils\\validation.py\u001b[0m in \u001b[0;36mcheck_array\u001b[1;34m(array, accept_sparse, dtype, order, copy, force_all_finite, ensure_2d, allow_nd, ensure_min_samples, ensure_min_features, warn_on_dtype, estimator)\u001b[0m\n\u001b[0;32m    380\u001b[0m                                       force_all_finite)\n\u001b[0;32m    381\u001b[0m     \u001b[1;32melse\u001b[0m\u001b[1;33m:\u001b[0m\u001b[1;33m\u001b[0m\u001b[0m\n\u001b[1;32m--> 382\u001b[1;33m         \u001b[0marray\u001b[0m \u001b[1;33m=\u001b[0m \u001b[0mnp\u001b[0m\u001b[1;33m.\u001b[0m\u001b[0marray\u001b[0m\u001b[1;33m(\u001b[0m\u001b[0marray\u001b[0m\u001b[1;33m,\u001b[0m \u001b[0mdtype\u001b[0m\u001b[1;33m=\u001b[0m\u001b[0mdtype\u001b[0m\u001b[1;33m,\u001b[0m \u001b[0morder\u001b[0m\u001b[1;33m=\u001b[0m\u001b[0morder\u001b[0m\u001b[1;33m,\u001b[0m \u001b[0mcopy\u001b[0m\u001b[1;33m=\u001b[0m\u001b[0mcopy\u001b[0m\u001b[1;33m)\u001b[0m\u001b[1;33m\u001b[0m\u001b[0m\n\u001b[0m\u001b[0;32m    383\u001b[0m \u001b[1;33m\u001b[0m\u001b[0m\n\u001b[0;32m    384\u001b[0m         \u001b[1;32mif\u001b[0m \u001b[0mensure_2d\u001b[0m\u001b[1;33m:\u001b[0m\u001b[1;33m\u001b[0m\u001b[0m\n",
      "\u001b[1;31mValueError\u001b[0m: could not convert string to float: '1 Adequate'"
     ]
    }
   ],
   "source": [
    "X_train_1 = train_X\n",
    "X_test_1 = test_X\n",
    "Y_train_1 = train_y\n",
    "Y_test_1 = test_y\n",
    "#Import Library\n",
    "from sklearn.ensemble import RandomForestRegressor #use RandomForestRegressor for regression problem\n",
    "#Assumed you have, X (predictor) and Y (target) for training data set and x_test(predictor) of test_dataset\n",
    "# Create Random Forest object\n",
    "model= RandomForestRegressor()\n",
    "# Train the model using the training sets and check score\n",
    "model.fit(X_train_1, Y_train_1)\n",
    "#Predict Output\n",
    "prediction= model.predict(X_test_1)"
   ]
  },
  {
   "cell_type": "code",
   "execution_count": 107,
   "metadata": {},
   "outputs": [
    {
     "data": {
      "text/plain": [
       "array([ 0.3505305 ,  0.3586298 ,  0.17025829, ...,  0.19837194,\n",
       "        0.41549852,  0.27421727])"
      ]
     },
     "execution_count": 107,
     "metadata": {},
     "output_type": "execute_result"
    }
   ],
   "source": [
    "prediction"
   ]
  },
  {
   "cell_type": "code",
   "execution_count": 108,
   "metadata": {},
   "outputs": [
    {
     "data": {
      "text/plain": [
       "-3.2360957032697453"
      ]
     },
     "execution_count": 108,
     "metadata": {},
     "output_type": "execute_result"
    }
   ],
   "source": [
    "from sklearn.metrics import explained_variance_score\n",
    "explained_variance_score(test_y, prediction)"
   ]
  },
  {
   "cell_type": "code",
   "execution_count": 109,
   "metadata": {},
   "outputs": [
    {
     "data": {
      "text/plain": [
       "-3.2418591300936566"
      ]
     },
     "execution_count": 109,
     "metadata": {},
     "output_type": "execute_result"
    }
   ],
   "source": [
    "from sklearn.metrics import r2_score\n",
    "r2_score(test_y, prediction)"
   ]
  },
  {
   "cell_type": "code",
   "execution_count": 110,
   "metadata": {},
   "outputs": [
    {
     "name": "stdout",
     "output_type": "stream",
     "text": [
      "0.003336958115\n"
     ]
    }
   ],
   "source": [
    "from sklearn.metrics import median_absolute_error\n",
    "model_mse = median_absolute_error(test_y,prediction)\n",
    "print(model_mse)"
   ]
  }
 ],
 "metadata": {
  "kernelspec": {
   "display_name": "Python 3",
   "language": "python",
   "name": "python3"
  },
  "language_info": {
   "codemirror_mode": {
    "name": "ipython",
    "version": 3
   },
   "file_extension": ".py",
   "mimetype": "text/x-python",
   "name": "python",
   "nbconvert_exporter": "python",
   "pygments_lexer": "ipython3",
   "version": "3.6.1"
  }
 },
 "nbformat": 4,
 "nbformat_minor": 2
}
